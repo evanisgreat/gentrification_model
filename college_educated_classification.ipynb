{
 "cells": [
  {
   "cell_type": "markdown",
   "id": "a00b36e6",
   "metadata": {},
   "source": [
    "# Classification for College Educated Peoples\n",
    "\n",
    "Source: ACS\n"
   ]
  },
  {
   "cell_type": "code",
   "execution_count": null,
   "id": "5077bc04",
   "metadata": {},
   "outputs": [],
   "source": [
    "import pandas as pd\n",
    "\n",
    "df_msa = pd.read_csv('data/msa-by-zip.csv')\n",
    "\n",
    "# Filter out invalid ZIP codes (less than 3 digits, e.g., P.O. Boxes, special-purpose ZIPs)\n",
    "df_msa = df_msa[df_msa['ZIP CODE'] >= 601]\n",
    "\n",
    "# Convert ZIP codes to 5-digit strings with leading zeros\n",
    "df_msa['ZIP CODE'] = df_msa['ZIP CODE'].astype(str).str.zfill(5)\n",
    "\n",
    "# Standardize column names to lowercase and replace spaces with underscores\n",
    "df_msa.columns = [col.lower().replace(\" \", \"_\") for col in df_msa.columns]\n",
    "\n",
    "# Create a subset with only ZIP code and MSA name for merging later\n",
    "df_subset = df_msa[['zip_code', 'msa_name']]\n",
    "\n",
    "keywords = ['some_college_or_associate\\'s_degree']\n",
    "def name_contains_all(col_name, keywords):\n",
    "    return all(kw.lower() in col_name.lower() for kw in keywords)\n",
    "\n",
    "def clean_data(df, df_subset):\n",
    "    \"\"\"\n",
    "    Cleans and processes a DataFrame containing ZIP Code Tabulation Area (ZCTA5) and education data,\n",
    "    and merges it with a DataFrame containing ZIP-to-MSA mapping.\n",
    "\n",
    "    This function:\n",
    "    - Parses headers and ZIP codes from raw Census-like data files.\n",
    "    - Standardizes column names and formats ZIP codes.\n",
    "    - Computes the percentage of the population with a bachelor's degree or higher.\n",
    "    - Merges in MSA (Metropolitan Statistical Area) names based on ZIP code.\n",
    "    - Filters out non-metropolitan areas.\n",
    "\n",
    "    Parameters\n",
    "    ----------\n",
    "    df : pd.DataFrame\n",
    "        Raw DataFrame containing geographic and education/income data.\n",
    "        Assumes the first row contains actual column headers.\n",
    "        The first and last columns are dropped, typically as they are metadata.\n",
    "\n",
    "    df_subset : pd.DataFrame\n",
    "        A subset DataFrame with two columns: 'zip_code' and 'msa_name',\n",
    "        used to map ZIP codes to their respective MSAs.\n",
    "\n",
    "    Returns\n",
    "    -------\n",
    "    pd.DataFrame\n",
    "        A cleaned and merged DataFrame with:\n",
    "        - Standardized ZIP codes\n",
    "        - Mapped MSA names\n",
    "        - Computed percentage of college-educated population (`per_college`)\n",
    "        - Filtered out non-metropolitan ZIP codes\n",
    "    \"\"\"\n",
    "\n",
    "    # Use the first row as the actual column headers\n",
    "    df.columns = df.iloc[0]\n",
    "    df = df[1:].reset_index(drop=True)\n",
    "\n",
    "    # Drop first and last columns (often metadata or margin of error)\n",
    "    df = df.drop([df.columns[0], df.columns[-1]], axis=1)\n",
    "\n",
    "    # Extract 5-digit ZIP code from 'Geographic Area Name' column\n",
    "    df[\"zip_code\"] = df[\"Geographic Area Name\"].str.extract(r'ZCTA5 (\\d{5})')\n",
    "\n",
    "    # Drop the original 'Geographic Area Name' column\n",
    "    df = df.drop(columns='Geographic Area Name')\n",
    "\n",
    "    # Standardize column names: lowercase and replace spaces with underscores\n",
    "    df.columns = [col.lower().replace(\" \", \"_\") for col in df.columns]\n",
    "\n",
    "    # Compute `per_college`: percentage of population with at least a bachelor's degree\n",
    "    # Multiple formats are supported depending on dataset structure\n",
    "\n",
    "    # Format 1: Direct total estimate with percent bachelor's or higher\n",
    "    if 'total!!estimate!!some_college_or_associate\\'s_degree' in df.columns:\n",
    "        df['per_college'] = pd.to_numeric(df['total!!estimate!!percent_bachelor\\'s_degree_or_higher'], errors='coerce')\n",
    "        df = df.dropna(subset=['per_college'])\n",
    "        df['per_college'] = df['per_college'].astype(float)\n",
    "\n",
    "    # Format 2: Estimate by age group and degree level\n",
    "    elif 'estimate!!total!!age_by_educational_attainment!!population_18_to_24_years!!some_college_or_associate\\'s_degree' in df.columns:\n",
    "        df['18_24_bachelors'] = pd.to_numeric(df['estimate!!total!!age_by_educational_attainment!!population_18_to_24_years!!bachelor\\'s_degree_or_higher'], errors='coerce')\n",
    "        df['over_25_bachelors'] = pd.to_numeric(df['estimate!!total!!age_by_educational_attainment!!population_25_years_and_over!!bachelor\\'s_degree'], errors='coerce')\n",
    "        df['over_25_masters'] = pd.to_numeric(df['estimate!!total!!age_by_educational_attainment!!population_25_years_and_over!!graduate_or_professional_degree'], errors='coerce')\n",
    "        df['18_24_pop'] = pd.to_numeric(df['estimate!!total!!age_by_educational_attainment!!population_18_to_24_years'], errors='coerce')\n",
    "        df['over_25_pop'] = pd.to_numeric(df['estimate!!total!!age_by_educational_attainment!!population_25_years_and_over'], errors='coerce')\n",
    "        df['per_college'] = ((df['18_24_bachelors'] + df['over_25_bachelors'] + df['over_25_masters']) /\n",
    "                             (df['18_24_pop'] + df['over_25_pop'])) * 100\n",
    "\n",
    "    # Format 3: Alternate label order with similar content\n",
    "    elif 'total!!estimate!!population_18_to_24_years!!some_college_or_associate\\'s_degree' in df.columns:\n",
    "        df['18_24_bachelors'] = pd.to_numeric(df['total!!estimate!!population_18_to_24_years!!bachelor\\'s_degree_or_higher'], errors='coerce')\n",
    "        df['over_25_bachelors'] = pd.to_numeric(df['total!!estimate!!population_25_years_and_over!!bachelor\\'s_degree'], errors='coerce')\n",
    "        df['over_25_masters'] = pd.to_numeric(df['total!!estimate!!population_25_years_and_over!!graduate_or_professional_degree'], errors='coerce')\n",
    "        df['18_24_pop'] = pd.to_numeric(df['total!!estimate!!population_18_to_24_years'], errors='coerce')\n",
    "        df['over_25_pop'] = pd.to_numeric(df['total!!estimate!!population_25_years_and_over'], errors='coerce')\n",
    "        df['per_college'] = ((df['18_24_bachelors'] + df['over_25_bachelors'] + df['over_25_masters']) /\n",
    "                             (df['18_24_pop'] + df['over_25_pop'])) * 100\n",
    "\n",
    "    # Format 4: Another alternate label structure\n",
    "    elif 'estimate!!total!!population_18_to_24_years!!some_college_or_associate\\'s_degree' in df.columns:\n",
    "        df['18_24_bachelors'] = pd.to_numeric(df['estimate!!total!!population_18_to_24_years!!bachelor\\'s_degree_or_higher'], errors='coerce')\n",
    "        df['over_25_bachelors'] = pd.to_numeric(df['estimate!!total!!population_25_years_and_over!!bachelor\\'s_degree'], errors='coerce')\n",
    "        df['over_25_masters'] = pd.to_numeric(df['estimate!!total!!population_25_years_and_over!!graduate_or_professional_degree'], errors='coerce')\n",
    "        df['18_24_pop'] = pd.to_numeric(df['estimate!!total!!population_18_to_24_years'], errors='coerce')\n",
    "        df['over_25_pop'] = pd.to_numeric(df['estimate!!total!!population_25_years_and_over'], errors='coerce')\n",
    "        df['per_college'] = ((df['18_24_bachelors'] + df['over_25_bachelors'] + df['over_25_masters']) /\n",
    "                             (df['18_24_pop'] + df['over_25_pop'])) * 100\n",
    "\n",
    "    # Merge education data with MSA information using ZIP codes\n",
    "    df_merged = pd.merge(df, df_subset, on='zip_code', how='left')\n",
    "\n",
    "    # Reorder columns for clarity: zip_code and msa_name first\n",
    "    col = ['zip_code', 'msa_name']\n",
    "    df_merged = df_merged[col + [c for c in df_merged.columns if c not in col]]\n",
    "\n",
    "    # Remove rows that have no MSA or are labeled as NONMETROPOLITAN\n",
    "    df_merged = df_merged[~df_merged['msa_name'].str.contains('NONMETROPOLITAN', na=False)]\n",
    "    df_merged = df_merged.dropna(subset=['msa_name'])\n",
    "\n",
    "    return df_merged\n"
   ]
  },
  {
   "cell_type": "code",
   "execution_count": null,
   "id": "c0640870",
   "metadata": {},
   "outputs": [
    {
     "name": "stderr",
     "output_type": "stream",
     "text": [
      "/var/folders/l5/c83q5w7j3wvcv1kvpg3d5qc80000gn/T/ipykernel_62885/1918691489.py:1: DtypeWarning: Columns (2,3,4,5,6,7,32,33,34,35,36,37,92,93,94,95,96,97,110,111,112,113,114,115,128,129,130,131,132,133,146,147,148,149,150,151) have mixed types. Specify dtype option on import or set low_memory=False.\n",
      "  df_base = pd.read_csv('data/2011_acs_education_data.csv')\n"
     ]
    }
   ],
   "source": [
    "# Load base year (2011) ACS education data\n",
    "df_base = pd.read_csv('data/2011_acs_education_data.csv')\n",
    "\n",
    "# Clean and process the raw data, merging ZIP codes with MSA names and computing education levels\n",
    "df_base = clean_data(df_base, df_subset)\n",
    "\n",
    "# Get a set of unique MSAs (Metropolitan Statistical Areas) from the cleaned data\n",
    "unique_msa = set(df_base['msa_name'])\n",
    "\n",
    "# Dictionary to store the median percentage of college-educated individuals per MSA\n",
    "median_msa_college_base = {}\n",
    "\n",
    "# Initialize an empty DataFrame to store output results\n",
    "output = pd.DataFrame({\n",
    "    'zip_code': [], \n",
    "    'msa_name': [], \n",
    "    'per_college_educated': [], \n",
    "    'at_risk': []\n",
    "})\n",
    "\n",
    "# Loop through each unique MSA\n",
    "for msa in unique_msa:\n",
    "    # Filter data to only include rows from the current MSA\n",
    "    df_specific = df_base[df_base['msa_name'] == msa]\n",
    "\n",
    "    # Calculate the median percentage of college-educated individuals within this MSA\n",
    "    median_per_college_edu = df_specific['per_college'].median()\n",
    "\n",
    "    # Store the median value in the dictionary for future reference (optional use)\n",
    "    median_msa_college_base[msa] = median_per_college_edu\n",
    "\n",
    "    # Iterate through each ZIP code (row) in the current MSA\n",
    "    for _, row in df_specific.iterrows():\n",
    "        # Create a new dictionary for each row with classification info\n",
    "        new_row = {\n",
    "            'zip_code': row['zip_code'],\n",
    "            'msa_name': row['msa_name'],\n",
    "            'per_college_educated': row['per_college'],\n",
    "            # Flag ZIP codes as \"at risk\" if they fall below the MSA's median\n",
    "            'at_risk': row['per_college'] < median_per_college_edu\n",
    "        }\n",
    "\n",
    "        # Append the new row to the output DataFrame\n",
    "        output.loc[len(output)] = new_row\n",
    "\n",
    "# Export the final output DataFrame to a CSV file\n",
    "output.to_csv('data/college_educated_classification_base_year.csv', index=False)\n"
   ]
  },
  {
   "cell_type": "code",
   "execution_count": null,
   "id": "56596879",
   "metadata": {},
   "outputs": [
    {
     "name": "stdout",
     "output_type": "stream",
     "text": [
      "2012\n"
     ]
    },
    {
     "name": "stderr",
     "output_type": "stream",
     "text": [
      "/var/folders/l5/c83q5w7j3wvcv1kvpg3d5qc80000gn/T/ipykernel_62885/2655503895.py:7: DtypeWarning: Columns (2,3,4,5,6,7,32,33,34,35,36,37,92,93,94,95,96,97,110,111,112,113,114,115,128,129,130,131,132,133,146,147,148,149,150,151) have mixed types. Specify dtype option on import or set low_memory=False.\n",
      "  df = pd.read_csv(file_name)\n"
     ]
    },
    {
     "name": "stdout",
     "output_type": "stream",
     "text": [
      "2013\n"
     ]
    },
    {
     "name": "stderr",
     "output_type": "stream",
     "text": [
      "/var/folders/l5/c83q5w7j3wvcv1kvpg3d5qc80000gn/T/ipykernel_62885/2655503895.py:7: DtypeWarning: Columns (2,3,4,5,6,7,32,33,34,35,36,37,92,93,94,95,96,97,110,111,112,113,114,115,128,129,130,131,132,133,146,147,148,149,150,151) have mixed types. Specify dtype option on import or set low_memory=False.\n",
      "  df = pd.read_csv(file_name)\n"
     ]
    },
    {
     "name": "stdout",
     "output_type": "stream",
     "text": [
      "2014\n"
     ]
    },
    {
     "name": "stderr",
     "output_type": "stream",
     "text": [
      "/var/folders/l5/c83q5w7j3wvcv1kvpg3d5qc80000gn/T/ipykernel_62885/2655503895.py:7: DtypeWarning: Columns (2,3,4,5,6,7,32,33,34,35,36,37,92,93,94,95,96,97,110,111,112,113,114,115,128,129,130,131,132,133,146,147,148,149,150,151) have mixed types. Specify dtype option on import or set low_memory=False.\n",
      "  df = pd.read_csv(file_name)\n"
     ]
    },
    {
     "name": "stdout",
     "output_type": "stream",
     "text": [
      "2015\n"
     ]
    },
    {
     "name": "stderr",
     "output_type": "stream",
     "text": [
      "/var/folders/l5/c83q5w7j3wvcv1kvpg3d5qc80000gn/T/ipykernel_62885/2655503895.py:7: DtypeWarning: Columns (2,3,6,7,10,11,14,15,18,19,22,23,26,27,30,31,34,35,38,39,42,43,46,47,50,51,54,55,58,59,62,63,66,67,70,71,74,75,78,79,82,83,86,87,90,91,94,95,98,99,102,103,106,107,110,111,114,115,118,119,122,123,126,127,130,131,134,135,138,139,142,143,146,147,150,151,154,155,182,183,186,187,190,191,194,195,198,199,202,203,206,207,210,211,214,215,218,219,222,223,226,227,230,231,234,235,238,239,242,243,246,247,250,251,254,255,258,259,262,263,266,267,270,271,274,275,278,279,282,283,286,287,290,291,294,295,298,299,302,303,306,307,310,311,314,315,318,319,322,323,326,327,330,331,334,335,338,339,342,343,346,347,350,351,354,355,358,359,362,363,366,367,370,371,374,375,378,379,382,383,386,387,390,391,394,395,398,399,402,403,406,407,410,411,414,415,418,419,422,423,426,427,430,431,434,435,438,439,442,443,446,447,450,451,454,455,458,459,462,463,466,467,470,471,474,475,478,479,482,483,486,487,490,491,494,495,498,499,502,503,506,507,510,511,514,515,518,519,522,523,526,527,530,531,534,535,538,539,542,543,546,547,550,551,554,555,558,559,562,563,566,567,570,571,574,575,578,579,582,583,586,587,590,591,594,595,598,599,602,603,606,607,610,611,614,615,618,619,622,623,626,627,630,631,634,635,638,639,642,643,646,647) have mixed types. Specify dtype option on import or set low_memory=False.\n",
      "  df = pd.read_csv(file_name)\n"
     ]
    },
    {
     "name": "stdout",
     "output_type": "stream",
     "text": [
      "2016\n"
     ]
    },
    {
     "name": "stderr",
     "output_type": "stream",
     "text": [
      "/var/folders/l5/c83q5w7j3wvcv1kvpg3d5qc80000gn/T/ipykernel_62885/2655503895.py:7: DtypeWarning: Columns (2,3,6,7,10,11,14,15,18,19,22,23,26,27,30,31,34,35,38,39,42,43,46,47,50,51,54,55,58,59,62,63,66,67,70,71,74,75,78,79,82,83,86,87,90,91,94,95,98,99,102,103,106,107,110,111,114,115,118,119,122,123,126,127,130,131,134,135,138,139,142,143,146,147,150,151,154,155,182,183,186,187,190,191,194,195,198,199,202,203,206,207,210,211,214,215,218,219,222,223,226,227,230,231,234,235,238,239,242,243,246,247,250,251,254,255,258,259,262,263,266,267,270,271,274,275,278,279,282,283,286,287,290,291,294,295,298,299,302,303,306,307,310,311,314,315,318,319,322,323,326,327,330,331,334,335,338,339,342,343,346,347,350,351,354,355,358,359,362,363,366,367,370,371,374,375,378,379,382,383,386,387,390,391,394,395,398,399,402,403,406,407,410,411,414,415,418,419,422,423,426,427,430,431,434,435,438,439,442,443,446,447,450,451,454,455,458,459,462,463,466,467,470,471,474,475,478,479,482,483,486,487,490,491,494,495,498,499,502,503,506,507,510,511,514,515,518,519,522,523,526,527,530,531,534,535,538,539,542,543,546,547,550,551,554,555,558,559,562,563,566,567,570,571,574,575,578,579,582,583,586,587,590,591,594,595,598,599,602,603,606,607,610,611,614,615,618,619,622,623,626,627,630,631,634,635,638,639,642,643,646,647) have mixed types. Specify dtype option on import or set low_memory=False.\n",
      "  df = pd.read_csv(file_name)\n"
     ]
    },
    {
     "name": "stdout",
     "output_type": "stream",
     "text": [
      "2017\n"
     ]
    },
    {
     "name": "stderr",
     "output_type": "stream",
     "text": [
      "/var/folders/l5/c83q5w7j3wvcv1kvpg3d5qc80000gn/T/ipykernel_62885/2655503895.py:7: DtypeWarning: Columns (2,3,4,5,6,7,8,9,10,11,12,13,14,15,16,17,18,19,20,21,22,23,24,25,26,27,32,33,34,35,36,37,38,39,40,41,42,43,44,45,46,47,48,49,50,51,52,53,54,55,56,57,58,59,60,61,62,63,64,65,66,67,68,69,70,71,72,73,74,75,76,77,78,79,80,81,82,83,84,85,86,87,88,89,90,91,92,93,94,95,96,97,98,99,100,101,102,103,104,105,106,107,108,109,258,259,260,261,262,263,264,265,266,267,268,269,270,271,272,273,274,275,276,277,278,279,280,281,282,283,288,289,290,291,292,293,294,295,296,297,298,299,300,301,302,303,304,305,306,307,308,309,310,311,312,313,314,315,316,317,318,319,320,321,322,323,324,325,326,327,328,329,330,331,332,333,334,335,336,337,338,339,340,341,342,343,344,345,346,347,348,349,350,351,352,353,354,355,356,357,358,359,360,361,362,363,364,365,514,515,516,517,518,519,520,521,522,523,524,525,526,527,528,529,530,531,532,533,534,535,536,537,538,539,544,545,546,547,548,549,550,551,552,553,554,555,556,557,558,559,560,561,562,563,564,565,566,567,568,569,570,571,572,573,574,575,576,577,578,579,580,581,582,583,584,585,586,587,588,589,590,591,592,593,594,595,596,597,598,599,600,601,602,603,604,605,606,607,608,609,610,611,612,613,614,615,616,617,618,619,620,621) have mixed types. Specify dtype option on import or set low_memory=False.\n",
      "  df = pd.read_csv(file_name)\n"
     ]
    },
    {
     "name": "stdout",
     "output_type": "stream",
     "text": [
      "2018\n"
     ]
    },
    {
     "name": "stderr",
     "output_type": "stream",
     "text": [
      "/var/folders/l5/c83q5w7j3wvcv1kvpg3d5qc80000gn/T/ipykernel_62885/2655503895.py:7: DtypeWarning: Columns (2,3,4,5,6,7,8,9,10,11,12,13,14,15,16,17,18,19,20,21,22,23,24,25,26,27,28,29,30,31,32,33,34,35,36,37,38,39,40,41,42,43,44,45,46,47,48,49,50,51,52,53,54,55,56,57,58,59,60,61,62,63,64,65,66,67,68,69,70,71,72,73,74,75,76,77,78,79,80,81,82,83,84,85,86,87,88,89,90,91,92,93,94,95,96,97,98,99,100,101,102,103,104,105,106,107,108,109,132,133,136,137,142,143,146,147,152,153,156,157,162,163,166,167,172,173,176,177,182,183,186,187,190,191,192,193,196,197,200,201,202,203,206,207,210,211,212,213,216,217,220,221,222,223,226,227,230,231,232,233,236,237,240,241,242,243,246,247,250,251,252,253,256,257,260,261,270,271,282,283,286,287,292,293,296,297,302,303,306,307,312,313,316,317,322,323,326,327,332,333,336,337,342,343,346,347,352,353,356,357,362,363,366,367,372,373,376,377,382,383,386,387,392,393,396,397,402,403,406,407,410,411,412,413,416,417,420,421,422,423,426,427,432,433,436,437,440,441,442,443,446,447,450,451,452,453,456,457,462,463,466,467,472,473,476,477,482,483,486,487,492,493,496,497,502,503,506,507,512,513,516,517,522,523,526,527,532,533,536,537,542,543,546,547,552,553,556,557,562,563,566,567,572,573,576,577,582,583,586,587,592,593,596,597,602,603,606,607,612,613,616,617,622,623,626,627,632,633,636,637,642,643,646,647,652,653,656,657,662,663,666,667) have mixed types. Specify dtype option on import or set low_memory=False.\n",
      "  df = pd.read_csv(file_name)\n"
     ]
    },
    {
     "name": "stdout",
     "output_type": "stream",
     "text": [
      "2019\n"
     ]
    },
    {
     "name": "stderr",
     "output_type": "stream",
     "text": [
      "/var/folders/l5/c83q5w7j3wvcv1kvpg3d5qc80000gn/T/ipykernel_62885/2655503895.py:7: DtypeWarning: Columns (2,3,4,5,6,7,8,9,10,11,12,13,14,15,16,17,18,19,20,21,22,23,24,25,26,27,28,29,30,31,32,33,34,35,36,37,38,39,40,41,42,43,44,45,46,47,48,49,50,51,52,53,54,55,56,57,58,59,60,61,62,63,64,65,66,67,68,69,70,71,72,73,74,75,76,77,78,79,80,81,82,83,84,85,86,87,88,89,90,91,92,93,94,95,96,97,98,99,100,101,102,103,104,105,106,107,108,109,258,259,260,261,262,263,264,265,266,267,268,269,270,271,272,273,274,275,276,277,278,279,280,281,282,283,284,285,286,287,288,289,290,291,292,293,294,295,296,297,298,299,300,301,302,303,304,305,306,307,308,309,310,311,312,313,314,315,316,317,318,319,320,321,322,323,324,325,326,327,328,329,330,331,332,333,334,335,336,337,338,339,340,341,342,343,344,345,346,347,348,349,350,351,352,353,354,355,356,357,358,359,360,361,362,363,364,365,514,515,516,517,518,519,520,521,522,523,524,525,526,527,528,529,530,531,532,533,534,535,536,537,538,539,540,541,542,543,544,545,546,547,548,549,550,551,552,553,554,555,556,557,558,559,560,561,562,563,564,565,566,567,568,569,570,571,572,573,574,575,576,577,578,579,580,581,582,583,584,585,586,587,588,589,590,591,592,593,594,595,596,597,598,599,600,601,602,603,604,605,606,607,608,609,610,611,612,613,614,615,616,617,618,619,620,621) have mixed types. Specify dtype option on import or set low_memory=False.\n",
      "  df = pd.read_csv(file_name)\n"
     ]
    },
    {
     "name": "stdout",
     "output_type": "stream",
     "text": [
      "2020\n"
     ]
    },
    {
     "name": "stderr",
     "output_type": "stream",
     "text": [
      "/var/folders/l5/c83q5w7j3wvcv1kvpg3d5qc80000gn/T/ipykernel_62885/2655503895.py:7: DtypeWarning: Columns (2,3,4,5,6,7,8,9,10,11,12,13,14,15,16,17,18,19,20,21,22,23,24,25,26,27,28,29,30,31,32,33,34,35,36,37,38,39,40,41,42,43,44,45,46,47,48,49,50,51,52,53,54,55,56,57,58,59,60,61,62,63,64,65,66,67,68,69,70,71,72,73,74,75,76,77,78,79,80,81,82,83,84,85,86,87,88,89,90,91,92,93,94,95,96,97,98,99,100,101,102,103,104,105,106,107,108,109,258,259,260,261,262,263,264,265,266,267,268,269,270,271,272,273,274,275,276,277,278,279,280,281,282,283,284,285,286,287,288,289,290,291,292,293,294,295,296,297,298,299,300,301,302,303,304,305,306,307,308,309,310,311,312,313,314,315,316,317,318,319,320,321,322,323,324,325,326,327,328,329,330,331,332,333,334,335,336,337,338,339,340,341,342,343,344,345,346,347,348,349,350,351,352,353,354,355,356,357,358,359,360,361,362,363,364,365,514,515,516,517,518,519,520,521,522,523,524,525,526,527,528,529,530,531,532,533,534,535,536,537,538,539,540,541,542,543,544,545,546,547,548,549,550,551,552,553,554,555,556,557,558,559,560,561,562,563,564,565,566,567,568,569,570,571,572,573,574,575,576,577,578,579,580,581,582,583,584,585,586,587,588,589,590,591,592,593,594,595,596,597,598,599,600,601,602,603,604,605,606,607,608,609,610,611,612,613,614,615,616,617,618,619,620,621) have mixed types. Specify dtype option on import or set low_memory=False.\n",
      "  df = pd.read_csv(file_name)\n"
     ]
    },
    {
     "name": "stdout",
     "output_type": "stream",
     "text": [
      "2021\n"
     ]
    },
    {
     "name": "stderr",
     "output_type": "stream",
     "text": [
      "/var/folders/l5/c83q5w7j3wvcv1kvpg3d5qc80000gn/T/ipykernel_62885/2655503895.py:7: DtypeWarning: Columns (2,3,4,5,6,7,8,9,10,11,12,13,14,15,16,17,18,19,20,21,22,23,24,25,26,27,28,29,30,31,32,33,34,35,36,37,38,39,40,41,42,43,44,45,46,47,48,49,50,51,52,53,54,55,56,57,58,59,60,61,62,63,64,65,66,67,68,69,70,71,72,73,74,75,76,77,78,79,80,81,82,83,84,85,86,87,88,89,90,91,92,93,94,95,96,97,98,99,100,101,102,103,104,105,106,107,108,109,258,259,260,261,262,263,264,265,266,267,268,269,270,271,272,273,274,275,276,277,278,279,280,281,282,283,284,285,286,287,288,289,290,291,292,293,294,295,296,297,298,299,300,301,302,303,304,305,306,307,308,309,310,311,312,313,314,315,316,317,318,319,320,321,322,323,324,325,326,327,328,329,330,331,332,333,334,335,336,337,338,339,340,341,342,343,344,345,346,347,348,349,350,351,352,353,354,355,356,357,358,359,360,361,362,363,364,365,514,515,516,517,518,519,520,521,522,523,524,525,526,527,528,529,530,531,532,533,534,535,536,537,538,539,540,541,542,543,544,545,546,547,548,549,550,551,552,553,554,555,556,557,558,559,560,561,562,563,564,565,566,567,568,569,570,571,572,573,574,575,576,577,578,579,580,581,582,583,584,585,586,587,588,589,590,591,592,593,594,595,596,597,598,599,600,601,602,603,604,605,606,607,608,609,610,611,612,613,614,615,616,617,618,619,620,621) have mixed types. Specify dtype option on import or set low_memory=False.\n",
      "  df = pd.read_csv(file_name)\n"
     ]
    },
    {
     "name": "stdout",
     "output_type": "stream",
     "text": [
      "2022\n"
     ]
    },
    {
     "name": "stderr",
     "output_type": "stream",
     "text": [
      "/var/folders/l5/c83q5w7j3wvcv1kvpg3d5qc80000gn/T/ipykernel_62885/2655503895.py:7: DtypeWarning: Columns (2,3,4,5,6,7,8,9,10,11,12,13,14,15,16,17,18,19,20,21,22,23,24,25,26,27,28,29,30,31,32,33,34,35,36,37,38,39,40,41,42,43,44,45,46,47,48,49,50,51,52,53,54,55,56,57,58,59,60,61,62,63,64,65,66,67,68,69,70,71,72,73,74,75,76,77,78,79,80,81,82,83,84,85,86,87,88,89,90,91,92,93,94,95,96,97,98,99,100,101,102,103,104,105,106,107,108,109,258,259,260,261,262,263,264,265,266,267,268,269,270,271,272,273,274,275,276,277,278,279,280,281,282,283,284,285,286,287,288,289,290,291,292,293,294,295,296,297,298,299,300,301,302,303,304,305,306,307,308,309,310,311,312,313,314,315,316,317,318,319,320,321,322,323,324,325,326,327,328,329,330,331,332,333,334,335,336,337,338,339,340,341,342,343,344,345,346,347,348,349,350,351,352,353,354,355,356,357,358,359,360,361,362,363,364,365,514,515,516,517,518,519,520,521,522,523,524,525,526,527,528,529,530,531,532,533,534,535,536,537,538,539,540,541,542,543,544,545,546,547,548,549,550,551,552,553,554,555,556,557,558,559,560,561,562,563,564,565,566,567,568,569,570,571,572,573,574,575,576,577,578,579,580,581,582,583,584,585,586,587,588,589,590,591,592,593,594,595,596,597,598,599,600,601,602,603,604,605,606,607,608,609,610,611,612,613,614,615,616,617,618,619,620,621) have mixed types. Specify dtype option on import or set low_memory=False.\n",
      "  df = pd.read_csv(file_name)\n"
     ]
    },
    {
     "name": "stdout",
     "output_type": "stream",
     "text": [
      "2023\n"
     ]
    },
    {
     "name": "stderr",
     "output_type": "stream",
     "text": [
      "/var/folders/l5/c83q5w7j3wvcv1kvpg3d5qc80000gn/T/ipykernel_62885/2655503895.py:7: DtypeWarning: Columns (2,3,4,5,6,7,8,9,10,11,12,13,14,15,16,17,18,19,20,21,22,23,24,25,26,27,28,29,30,31,32,33,34,35,36,37,38,39,40,41,42,43,44,45,46,47,48,49,50,51,52,53,54,55,56,57,58,59,60,61,62,63,64,65,66,67,68,69,70,71,72,73,74,75,76,77,78,79,80,81,82,83,84,85,86,87,88,89,90,91,92,93,94,95,96,97,98,99,100,101,102,103,104,105,106,107,108,109,258,259,260,261,262,263,264,265,266,267,268,269,270,271,272,273,274,275,276,277,278,279,280,281,282,283,284,285,286,287,288,289,290,291,292,293,294,295,296,297,298,299,300,301,302,303,304,305,306,307,308,309,310,311,312,313,314,315,316,317,318,319,320,321,322,323,324,325,326,327,328,329,330,331,332,333,334,335,336,337,338,339,340,341,342,343,344,345,346,347,348,349,350,351,352,353,354,355,356,357,358,359,360,361,362,363,364,365,514,515,516,517,518,519,520,521,522,523,524,525,526,527,528,529,530,531,532,533,534,535,536,537,538,539,540,541,542,543,544,545,546,547,548,549,550,551,552,553,554,555,556,557,558,559,560,561,562,563,564,565,566,567,568,569,570,571,572,573,574,575,576,577,578,579,580,581,582,583,584,585,586,587,588,589,590,591,592,593,594,595,596,597,598,599,600,601,602,603,604,605,606,607,608,609,610,611,612,613,614,615,616,617,618,619,620,621) have mixed types. Specify dtype option on import or set low_memory=False.\n",
      "  df = pd.read_csv(file_name)\n"
     ]
    }
   ],
   "source": [
    "# Initialize the output DataFrame to store results across years\n",
    "output = pd.DataFrame({\n",
    "    'zip_code': [], \n",
    "    'msa_name': [], \n",
    "    'per_college_educated': [], \n",
    "    'gentrified': [], \n",
    "    'year': []\n",
    "})\n",
    "\n",
    "# Iterate over each year from 2012 to 2023 (inclusive)\n",
    "for year in range(2012, 2024):\n",
    "    print(year)  # Log current year being processed\n",
    "\n",
    "    # Construct file path for the current year's ACS education data\n",
    "    file_name = 'data/' + str(year) + '_acs_education_data.csv'\n",
    "\n",
    "    # Read and clean the data for the current year\n",
    "    df = pd.read_csv(file_name)\n",
    "    df = clean_data(df, df_subset)\n",
    "\n",
    "    # Loop through each MSA of interest (those present in the 2011 base data)\n",
    "    for msa in unique_msa:\n",
    "\n",
    "        # Filter current year's data to include only this MSA\n",
    "        df_metro = df[df['msa_name'] == msa]\n",
    "\n",
    "        # Compute the median percentage of college-educated individuals in this MSA for the current year\n",
    "        median_now = df_metro['per_college'].median()\n",
    "\n",
    "        # Retrieve the 2011 (base year) median for this MSA\n",
    "        median_then = median_msa_college_base[msa]\n",
    "\n",
    "        # Calculate the change in MSA-level education attainment since 2011\n",
    "        region_change = median_now - median_then\n",
    "\n",
    "        # Iterate over ZIP codes in the current year's MSA data\n",
    "        for zip in df_metro['zip_code']:\n",
    "            # Extract the current year data for this ZIP code\n",
    "            row1 = df_metro[df_metro['zip_code'] == zip].iloc[0]\n",
    "\n",
    "            # Find the corresponding 2011 (base year) data for this ZIP\n",
    "            match = df_base[df_base['zip_code'] == zip]\n",
    "            if not match.empty:\n",
    "                row2 = match.iloc[0]  # Get the 2011 record for comparison\n",
    "            else:\n",
    "                continue  # Skip this ZIP if no matching 2011 data exists\n",
    "\n",
    "            # Determine if the ZIP is \"gentrified\":\n",
    "            # ZIP is gentrified if its college-educated share increased more than the overall MSA's increase\n",
    "            new_row = {\n",
    "                'zip_code': row1['zip_code'],\n",
    "                'msa_name': row1['msa_name'],\n",
    "                'per_college_educated': row1['per_college'],\n",
    "                'gentrified': row1['per_college'] - row2['per_college'] > region_change,\n",
    "                'year': year\n",
    "            }\n",
    "\n",
    "            # Append this result to the output DataFrame\n",
    "            output.loc[len(output)] = new_row\n",
    "\n",
    "# After all years are processed, save the full results to CSV\n",
    "output.to_csv('data/college_educated_classification_gentrified_overtime.csv', index=False)\n"
   ]
  }
 ],
 "metadata": {
  "kernelspec": {
   "display_name": "base",
   "language": "python",
   "name": "python3"
  },
  "language_info": {
   "codemirror_mode": {
    "name": "ipython",
    "version": 3
   },
   "file_extension": ".py",
   "mimetype": "text/x-python",
   "name": "python",
   "nbconvert_exporter": "python",
   "pygments_lexer": "ipython3",
   "version": "3.13.5"
  }
 },
 "nbformat": 4,
 "nbformat_minor": 5
}
