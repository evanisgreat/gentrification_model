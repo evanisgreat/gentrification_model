{
 "cells": [
  {
   "cell_type": "markdown",
   "id": "a00b36e6",
   "metadata": {},
   "source": [
    "# Classification for College Educated Peoples\n",
    "\n",
    "Source: ACS\n"
   ]
  },
  {
   "cell_type": "code",
   "execution_count": 14,
   "id": "5077bc04",
   "metadata": {},
   "outputs": [],
   "source": [
    "import pandas as pd\n",
    "\n",
    "df_msa = pd.read_csv('data/msa-by-zip.csv')\n",
    "\n",
    "# Filter out invalid ZIP codes (less than 3 digits, e.g., P.O. Boxes, special-purpose ZIPs)\n",
    "df_msa = df_msa[df_msa['ZIP CODE'] >= 601]\n",
    "\n",
    "# Convert ZIP codes to 5-digit strings with leading zeros\n",
    "df_msa['ZIP CODE'] = df_msa['ZIP CODE'].astype(str).str.zfill(5)\n",
    "\n",
    "# Standardize column names to lowercase and replace spaces with underscores\n",
    "df_msa.columns = [col.lower().replace(\" \", \"_\") for col in df_msa.columns]\n",
    "\n",
    "# Create a subset with only ZIP code and MSA name for merging later\n",
    "df_subset = df_msa[['zip_code', 'msa_name']]\n",
    "\n",
    "# Define data cleaning function\n",
    "def clean_data(df, df_subset):\n",
    "    \"\"\"\n",
    "    Cleans and processes a DataFrame containing ZIP Code Tabulation Area (ZCTA5) and income data, \n",
    "    merges it with a subset DataFrame, and returns the cleaned result along with the name of the median income column.\n",
    "\n",
    "    Parameters:\n",
    "    -----------\n",
    "    df : pd.DataFrame\n",
    "        Raw DataFrame containing income and geographic data. Assumes the first row is a header row, \n",
    "        and the first and last columns are to be dropped.\n",
    "    \n",
    "    df_subset : pd.DataFrame\n",
    "        DataFrame containing a 'zip_code' column and an 'msa_name' column to be merged with `df`.\n",
    "    \n",
    "    Returns:\n",
    "    --------\n",
    "    tuple:\n",
    "        - pd.DataFrame: Cleaned and merged DataFrame with relevant ZIP code and MSA (Metropolitan Statistical Area) data.\n",
    "        - str: The column name used for median household income, depending on which format was present in the original data.\n",
    "    \"\"\"\n",
    "    # Use the first row as the header, then reset index and drop the original header row\n",
    "    df.columns = df.iloc[0]\n",
    "    df = df[1:].reset_index(drop=True)\n",
    "\n",
    "    # Drop the first and last columns (likely metadata or margin of error)\n",
    "    df = df.drop([df.columns[0], df.columns[-1]], axis=1)\n",
    "\n",
    "    # Extract 5-digit ZIP codes from the 'Geographic Area Name' column\n",
    "    df[\"zip_code\"] = df[\"Geographic Area Name\"].str.extract(r'ZCTA5 (\\d{5})')\n",
    "\n",
    "    # Drop the 'Geographic Area Name' column after extracting the ZIP code\n",
    "    df = df.drop(columns='Geographic Area Name')\n",
    "\n",
    "    # Standardize column names: lowercase and underscores instead of spaces\n",
    "    df.columns = [col.lower().replace(\" \", \"_\") for col in df.columns]\n",
    "\n",
    "    df['col_numeric'] = pd.to_numeric(df['total!!estimate!!some_college_or_associate\\'s_degree'], errors='coerce')\n",
    "    df = df.dropna(subset=['col_numeric']).drop(columns='col_numeric')\n",
    "    df['total!!estimate!!some_college_or_associate\\'s_degree'] = df['total!!estimate!!some_college_or_associate\\'s_degree'].astype(float)\n",
    "    # Merge with MSA name data on ZIP code\n",
    "    df_merged = pd.merge(df, df_subset, on='zip_code', how='left')\n",
    "\n",
    "    # Reorder columns: zip_code and msa_name first\n",
    "    col = ['zip_code', 'msa_name']\n",
    "    df_merged = df_merged[col + [c for c in df_merged.columns if c not in col]]\n",
    "\n",
    "    # Remove rows that are marked as NONMETROPOLITAN or have no MSA name\n",
    "    df_merged = df_merged[~df_merged['msa_name'].str.contains('NONMETROPOLITAN', na=False)]\n",
    "    df_merged = df_merged.dropna(subset=['msa_name'])\n",
    "\n",
    "    return df_merged"
   ]
  },
  {
   "cell_type": "code",
   "execution_count": 20,
   "id": "c0640870",
   "metadata": {},
   "outputs": [
    {
     "name": "stderr",
     "output_type": "stream",
     "text": [
      "/var/folders/l5/c83q5w7j3wvcv1kvpg3d5qc80000gn/T/ipykernel_52745/648426815.py:1: DtypeWarning: Columns (2,3,4,5,6,7,32,33,34,35,36,37,92,93,94,95,96,97,110,111,112,113,114,115,128,129,130,131,132,133,146,147,148,149,150,151) have mixed types. Specify dtype option on import or set low_memory=False.\n",
      "  df = pd.read_csv('data/2011_acs_education_data.csv')\n"
     ]
    }
   ],
   "source": [
    "df = pd.read_csv('data/2011_acs_education_data.csv')\n",
    "\n",
    "df = clean_data(df, df_subset)\n",
    "\n",
    "unique_msa = set(df['msa_name'])\n",
    "\n",
    "output = pd.DataFrame({'zip_code':[], 'msa_name': [], 'per_college_educated':[], 'at_risk':[]})\n",
    "\n",
    "for msa in unique_msa:\n",
    "    df_specific = df[df['msa_name'] == msa]\n",
    "\n",
    "    median_per_college_edu = df_specific['total!!estimate!!some_college_or_associate\\'s_degree'].median()\n",
    "\n",
    "    for _, row in df_specific.iterrows():\n",
    "        new_row = {\n",
    "            'zip_code': row['zip_code'],\n",
    "            'msa_name': row['msa_name'],\n",
    "            'per_college_educated': row['total!!estimate!!some_college_or_associate\\'s_degree'],\n",
    "            'at_risk': row['total!!estimate!!some_college_or_associate\\'s_degree'] < median_per_college_edu\n",
    "        }\n",
    "        # Append row to result DataFrame\n",
    "        output.loc[len(output)] = new_row\n",
    "\n",
    "output.to_csv('data/college_educated_classification.csv', index=False)"
   ]
  }
 ],
 "metadata": {
  "kernelspec": {
   "display_name": "base",
   "language": "python",
   "name": "python3"
  },
  "language_info": {
   "codemirror_mode": {
    "name": "ipython",
    "version": 3
   },
   "file_extension": ".py",
   "mimetype": "text/x-python",
   "name": "python",
   "nbconvert_exporter": "python",
   "pygments_lexer": "ipython3",
   "version": "3.13.5"
  }
 },
 "nbformat": 4,
 "nbformat_minor": 5
}
