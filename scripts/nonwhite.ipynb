{
 "cells": [
  {
   "cell_type": "code",
   "execution_count": null,
   "metadata": {},
   "outputs": [
    {
     "data": {
      "text/html": [
       "<div>\n",
       "<style scoped>\n",
       "    .dataframe tbody tr th:only-of-type {\n",
       "        vertical-align: middle;\n",
       "    }\n",
       "\n",
       "    .dataframe tbody tr th {\n",
       "        vertical-align: top;\n",
       "    }\n",
       "\n",
       "    .dataframe thead th {\n",
       "        text-align: right;\n",
       "    }\n",
       "</style>\n",
       "<table border=\"1\" class=\"dataframe\">\n",
       "  <thead>\n",
       "    <tr style=\"text-align: right;\">\n",
       "      <th></th>\n",
       "      <th>zip_code</th>\n",
       "      <th>state</th>\n",
       "      <th>msa_no.</th>\n",
       "      <th>gpci</th>\n",
       "      <th>gpci.1</th>\n",
       "      <th>gpci.2</th>\n",
       "      <th>county_no.</th>\n",
       "      <th>msa_name</th>\n",
       "      <th>unnamed:_8</th>\n",
       "    </tr>\n",
       "  </thead>\n",
       "  <tbody>\n",
       "    <tr>\n",
       "      <th>8</th>\n",
       "      <td>00601</td>\n",
       "      <td>PR</td>\n",
       "      <td>99072.0</td>\n",
       "      <td>1.0</td>\n",
       "      <td>0.845</td>\n",
       "      <td>0.249</td>\n",
       "      <td>1.0</td>\n",
       "      <td>PR NONMETROPOLITAN AREA</td>\n",
       "      <td>NaN</td>\n",
       "    </tr>\n",
       "    <tr>\n",
       "      <th>9</th>\n",
       "      <td>00602</td>\n",
       "      <td>PR</td>\n",
       "      <td>10380.0</td>\n",
       "      <td>1.0</td>\n",
       "      <td>0.845</td>\n",
       "      <td>0.249</td>\n",
       "      <td>3.0</td>\n",
       "      <td>Aguadilla-Isabela-San Sebastian, PR MSA</td>\n",
       "      <td>NaN</td>\n",
       "    </tr>\n",
       "    <tr>\n",
       "      <th>10</th>\n",
       "      <td>00603</td>\n",
       "      <td>PR</td>\n",
       "      <td>10380.0</td>\n",
       "      <td>1.0</td>\n",
       "      <td>0.845</td>\n",
       "      <td>0.249</td>\n",
       "      <td>5.0</td>\n",
       "      <td>Aguadilla-Isabela-San Sebastian, PR MSA</td>\n",
       "      <td>NaN</td>\n",
       "    </tr>\n",
       "    <tr>\n",
       "      <th>11</th>\n",
       "      <td>00604</td>\n",
       "      <td>PR</td>\n",
       "      <td>10380.0</td>\n",
       "      <td>1.0</td>\n",
       "      <td>0.845</td>\n",
       "      <td>0.249</td>\n",
       "      <td>5.0</td>\n",
       "      <td>Aguadilla-Isabela-San Sebastian, PR MSA</td>\n",
       "      <td>NaN</td>\n",
       "    </tr>\n",
       "    <tr>\n",
       "      <th>12</th>\n",
       "      <td>00605</td>\n",
       "      <td>PR</td>\n",
       "      <td>10380.0</td>\n",
       "      <td>1.0</td>\n",
       "      <td>0.845</td>\n",
       "      <td>0.249</td>\n",
       "      <td>5.0</td>\n",
       "      <td>Aguadilla-Isabela-San Sebastian, PR MSA</td>\n",
       "      <td>NaN</td>\n",
       "    </tr>\n",
       "  </tbody>\n",
       "</table>\n",
       "</div>"
      ],
      "text/plain": [
       "   zip_code state  msa_no.  gpci  gpci.1  gpci.2  county_no.  \\\n",
       "8     00601    PR  99072.0   1.0   0.845   0.249         1.0   \n",
       "9     00602    PR  10380.0   1.0   0.845   0.249         3.0   \n",
       "10    00603    PR  10380.0   1.0   0.845   0.249         5.0   \n",
       "11    00604    PR  10380.0   1.0   0.845   0.249         5.0   \n",
       "12    00605    PR  10380.0   1.0   0.845   0.249         5.0   \n",
       "\n",
       "                                   msa_name unnamed:_8  \n",
       "8                   PR NONMETROPOLITAN AREA        NaN  \n",
       "9   Aguadilla-Isabela-San Sebastian, PR MSA        NaN  \n",
       "10  Aguadilla-Isabela-San Sebastian, PR MSA        NaN  \n",
       "11  Aguadilla-Isabela-San Sebastian, PR MSA        NaN  \n",
       "12  Aguadilla-Isabela-San Sebastian, PR MSA        NaN  "
      ]
     },
     "execution_count": 18,
     "metadata": {},
     "output_type": "execute_result"
    }
   ],
   "source": [
    "import pandas as pd\n",
    "\n",
    "# Load the MSA (Metropolitan Statistical Area) data by ZIP code from CSV\n",
    "df_msa = pd.read_csv(\"data/msa-by-zip.csv\")\n",
    "\n",
    "# Filter out ZIP codes less than 601 (assuming these are invalid or out of scope)\n",
    "df_msa = df_msa[df_msa[\"ZIP CODE\"] >= 601]\n",
    "\n",
    "# Convert ZIP codes to string format and pad with leading zeros to ensure 5-digit ZIP codes\n",
    "df_msa[\"ZIP CODE\"] = df_msa[\"ZIP CODE\"].astype(str).str.zfill(5)\n",
    "\n",
    "# Clean column names by converting to lowercase and replacing spaces with underscores\n",
    "df_msa.columns = [col.lower().replace(\" \", \"_\") for col in df_msa.columns]\n",
    "\n",
    "# Create a subset dataframe with only the ZIP code and MSA name columns\n",
    "df_subset = df_msa[[\"zip_code\", \"msa_name\"]]\n",
    "\n",
    "# Display the first few rows of the processed dataframe\n",
    "df_msa.head()"
   ]
  },
  {
   "cell_type": "code",
   "execution_count": null,
   "metadata": {},
   "outputs": [],
   "source": [
    "def clean_demo_data(df, df_subset, year):\n",
    "    # Use the first row of the dataframe as the new header (column names)\n",
    "    df.columns = df.iloc[0]\n",
    "    # Drop the original first row since it's now the header, and reset the index\n",
    "    df = df[1:].reset_index(drop=True)\n",
    "\n",
    "    # Extract 5-digit ZIP codes from the 'Geographic Area Name' column using regex\n",
    "    # Looks for the pattern \"ZCTA5 <5-digit-zip>\"\n",
    "    df[\"zip_code\"] = df[\"Geographic Area Name\"].str.extract(r\"ZCTA5 (\\d{5})\")\n",
    "\n",
    "    # Identify column(s) related to White population percentage in the ACS dataset\n",
    "    white_percent_col = [\n",
    "        col for col in df.columns \n",
    "        if isinstance(col, str) and (\n",
    "            \"Percent!!RACE!!One race!!White\" in col \n",
    "            or \"Percent Estimate!!RACE!!Total population!!One race!!White\" in col\n",
    "            or \"Percent!!RACE!!Total population!!One race!!White\" in col)\n",
    "    ]\n",
    "    \n",
    "    # Keep only the 'zip_code' and white percentage columns for further processing\n",
    "    df = df[[\"zip_code\"] + white_percent_col]\n",
    "\n",
    "    # Merge demographic data with MSA information by ZIP code from df_subset\n",
    "    df_merged = pd.merge(df, df_subset, on=\"zip_code\", how=\"left\")\n",
    "\n",
    "    # Remove rows where MSA is labeled as NONMETROPOLITAN\n",
    "    df_merged = df_merged[~df_merged[\"msa_name\"].str.contains(\"NONMETROPOLITAN\", na=False)]\n",
    "    # Drop rows that do not have any MSA information after merge\n",
    "    df_merged = df_merged.dropna(subset=[\"msa_name\"])\n",
    "\n",
    "    # Add the year column to the dataframe for reference\n",
    "    df_merged[\"year\"] = year\n",
    "\n",
    "    # If white percentage column exists, convert white percentage to nonwhite percentage\n",
    "    if white_percent_col:\n",
    "        col = white_percent_col[0]\n",
    "        # Convert the white percentage column to numeric and subtract from 100 to get nonwhite %\n",
    "        df_merged[\"percent_nonwhite\"] = 100.0 - pd.to_numeric(df_merged[col], errors=\"coerce\")\n",
    "    \n",
    "    # Drop rows with missing values in 'percent_nonwhite' column (e.g., conversion errors)\n",
    "    df_merged = df_merged.dropna(subset=[\"percent_nonwhite\"])\n",
    "\n",
    "    # Calculate the median nonwhite percentage per MSA region and create a new column with this value\n",
    "    df_merged[\"region_nonwhite\"] = df_merged.groupby(\"msa_name\")[\"percent_nonwhite\"].transform(\"median\")\n",
    "\n",
    "    # Standardize column names by converting to lowercase and replacing spaces with underscores\n",
    "    df_merged.columns = [col.lower().replace(\" \", \"_\") for col in df_merged.columns]\n",
    "\n",
    "    # Return the cleaned and processed dataframe\n",
    "    return df_merged\n"
   ]
  },
  {
   "cell_type": "code",
   "execution_count": 70,
   "metadata": {},
   "outputs": [
    {
     "name": "stderr",
     "output_type": "stream",
     "text": [
      "/var/folders/mx/cv_f44qs0m57p0lzjb0p91kh0000gn/T/ipykernel_53798/4172995476.py:2: DtypeWarning: Columns (2,3,4,6,7,10,11,14,15,18,19,22,23,26,27,30,31,34,35,38,39,42,43,46,47,50,51,54,55,58,59,62,63,70,71,74,75,78,79,82,83,86,87,88,90,91,94,95,98,99,100,102,103,106,107,110,111,112,114,115,118,119,122,123,126,127,130,131,134,135,138,139,142,143,146,147,150,151,154,155,158,159,162,163,166,167,170,171,174,175,178,179,182,183,186,187,190,191,194,195,198,199,202,203,206,207,210,211,214,215,218,219,222,223,226,227,230,231,232,234,235,238,239,242,243,246,247,250,251,254,255,258,259,260,262,263,266,267,270,271,274,275,278,279,282,283,286,287,290,291,294,295,298,299,302,303,306,307,310,311,314,315,318,319,322,323) have mixed types. Specify dtype option on import or set low_memory=False.\n",
      "  df_2011 = pd.read_csv(\"demodata/2011_demo_data.csv\")\n"
     ]
    },
    {
     "data": {
      "text/html": [
       "<div>\n",
       "<style scoped>\n",
       "    .dataframe tbody tr th:only-of-type {\n",
       "        vertical-align: middle;\n",
       "    }\n",
       "\n",
       "    .dataframe tbody tr th {\n",
       "        vertical-align: top;\n",
       "    }\n",
       "\n",
       "    .dataframe thead th {\n",
       "        text-align: right;\n",
       "    }\n",
       "</style>\n",
       "<table border=\"1\" class=\"dataframe\">\n",
       "  <thead>\n",
       "    <tr style=\"text-align: right;\">\n",
       "      <th></th>\n",
       "      <th>zip_code</th>\n",
       "      <th>percent!!race!!one_race!!white</th>\n",
       "      <th>msa_name</th>\n",
       "      <th>year</th>\n",
       "      <th>percent_nonwhite</th>\n",
       "      <th>region_nonwhite</th>\n",
       "    </tr>\n",
       "  </thead>\n",
       "  <tbody>\n",
       "    <tr>\n",
       "      <th>1</th>\n",
       "      <td>00602</td>\n",
       "      <td>85.9</td>\n",
       "      <td>Aguadilla-Isabela-San Sebastian, PR MSA</td>\n",
       "      <td>2011</td>\n",
       "      <td>14.1</td>\n",
       "      <td>12.75</td>\n",
       "    </tr>\n",
       "    <tr>\n",
       "      <th>2</th>\n",
       "      <td>00603</td>\n",
       "      <td>89.2</td>\n",
       "      <td>Aguadilla-Isabela-San Sebastian, PR MSA</td>\n",
       "      <td>2011</td>\n",
       "      <td>10.8</td>\n",
       "      <td>12.75</td>\n",
       "    </tr>\n",
       "    <tr>\n",
       "      <th>4</th>\n",
       "      <td>00610</td>\n",
       "      <td>91.7</td>\n",
       "      <td>Aguadilla-Isabela-San Sebastian, PR MSA</td>\n",
       "      <td>2011</td>\n",
       "      <td>8.3</td>\n",
       "      <td>12.75</td>\n",
       "    </tr>\n",
       "    <tr>\n",
       "      <th>5</th>\n",
       "      <td>00612</td>\n",
       "      <td>82.8</td>\n",
       "      <td>San Juan-Caguas-Guaynabo, PR MSA</td>\n",
       "      <td>2011</td>\n",
       "      <td>17.2</td>\n",
       "      <td>30.90</td>\n",
       "    </tr>\n",
       "    <tr>\n",
       "      <th>6</th>\n",
       "      <td>00616</td>\n",
       "      <td>92.4</td>\n",
       "      <td>San Juan-Caguas-Guaynabo, PR MSA</td>\n",
       "      <td>2011</td>\n",
       "      <td>7.6</td>\n",
       "      <td>30.90</td>\n",
       "    </tr>\n",
       "  </tbody>\n",
       "</table>\n",
       "</div>"
      ],
      "text/plain": [
       "  zip_code percent!!race!!one_race!!white  \\\n",
       "1    00602                           85.9   \n",
       "2    00603                           89.2   \n",
       "4    00610                           91.7   \n",
       "5    00612                           82.8   \n",
       "6    00616                           92.4   \n",
       "\n",
       "                                  msa_name  year  percent_nonwhite  \\\n",
       "1  Aguadilla-Isabela-San Sebastian, PR MSA  2011              14.1   \n",
       "2  Aguadilla-Isabela-San Sebastian, PR MSA  2011              10.8   \n",
       "4  Aguadilla-Isabela-San Sebastian, PR MSA  2011               8.3   \n",
       "5         San Juan-Caguas-Guaynabo, PR MSA  2011              17.2   \n",
       "6         San Juan-Caguas-Guaynabo, PR MSA  2011               7.6   \n",
       "\n",
       "   region_nonwhite  \n",
       "1            12.75  \n",
       "2            12.75  \n",
       "4            12.75  \n",
       "5            30.90  \n",
       "6            30.90  "
      ]
     },
     "execution_count": 70,
     "metadata": {},
     "output_type": "execute_result"
    }
   ],
   "source": [
    "#Test on 2011 acs demo data\n",
    "df_2011 = pd.read_csv(\"demodata/2011_demo_data.csv\")\n",
    "df_2011_cleaned = clean_demo_data(df_2011, df_subset, 2011)\n",
    "df_2011_cleaned.head()"
   ]
  },
  {
   "cell_type": "code",
   "execution_count": null,
   "metadata": {},
   "outputs": [
    {
     "name": "stdout",
     "output_type": "stream",
     "text": [
      "Starting year: 2012\n"
     ]
    },
    {
     "name": "stderr",
     "output_type": "stream",
     "text": [
      "/var/folders/mx/cv_f44qs0m57p0lzjb0p91kh0000gn/T/ipykernel_53798/3321356089.py:9: DtypeWarning: Columns (2,3,4,6,7,10,11,14,15,18,19,22,23,26,27,30,31,34,35,38,39,42,43,46,47,50,51,54,55,58,59,62,63,70,71,74,75,78,79,82,83,86,87,88,90,91,94,95,98,99,100,102,103,106,107,110,111,112,114,115,118,119,122,123,126,127,130,131,134,135,138,139,142,143,146,147,150,151,154,155,158,159,162,163,166,167,170,171,174,175,178,179,182,183,186,187,190,191,194,195,198,199,202,203,206,207,210,211,214,215,218,219,222,223,226,227,230,231,232,234,235,238,239,242,243,246,247,250,251,254,255,258,259,260,262,263,266,267,270,271,274,275,278,279,282,283,286,287,290,291,294,295,298,299,302,303,306,307,310,311,314,315,318,319,322,323) have mixed types. Specify dtype option on import or set low_memory=False.\n",
      "  df_demo = pd.read_csv(file_name)\n"
     ]
    },
    {
     "name": "stdout",
     "output_type": "stream",
     "text": [
      "Starting year: 2013\n"
     ]
    },
    {
     "name": "stderr",
     "output_type": "stream",
     "text": [
      "/var/folders/mx/cv_f44qs0m57p0lzjb0p91kh0000gn/T/ipykernel_53798/3321356089.py:9: DtypeWarning: Columns (2,3,4,6,7,10,11,14,15,18,19,22,23,26,27,30,31,34,35,38,39,42,43,46,47,50,51,54,55,58,59,62,63,70,71,74,75,78,79,82,83,86,87,88,90,91,94,95,98,99,100,102,103,106,107,110,111,112,114,115,118,119,122,123,126,127,130,131,134,135,138,139,142,143,146,147,150,151,154,155,158,159,162,163,166,167,170,171,174,175,178,179,182,183,186,187,190,191,194,195,198,199,202,203,206,207,210,211,214,215,218,219,222,223,226,227,230,231,232,234,235,238,239,242,243,246,247,250,251,254,255,258,259,260,262,263,266,267,270,271,274,275,278,279,282,283,286,287,290,291,294,295,298,299,302,303,306,307,310,311,314,315,318,319,322,323) have mixed types. Specify dtype option on import or set low_memory=False.\n",
      "  df_demo = pd.read_csv(file_name)\n"
     ]
    },
    {
     "name": "stdout",
     "output_type": "stream",
     "text": [
      "Starting year: 2014\n"
     ]
    },
    {
     "name": "stderr",
     "output_type": "stream",
     "text": [
      "/var/folders/mx/cv_f44qs0m57p0lzjb0p91kh0000gn/T/ipykernel_53798/3321356089.py:9: DtypeWarning: Columns (2,3,4,6,7,10,11,14,15,18,19,22,23,26,27,30,31,34,35,38,39,42,43,46,47,50,51,54,55,58,59,62,63,70,71,74,75,78,79,82,83,86,87,88,90,91,94,95,98,99,100,102,103,106,107,110,111,112,114,115,118,119,122,123,126,127,130,131,134,135,138,139,142,143,146,147,150,151,154,155,158,159,162,163,166,167,170,171,174,175,178,179,182,183,186,187,190,191,194,195,198,199,202,203,206,207,210,211,214,215,218,219,222,223,226,227,230,231,232,234,235,238,239,242,243,246,247,250,251,254,255,258,259,260,262,263,266,267,270,271,274,275,278,279,282,283,286,287,290,291,294,295,298,299,302,303,306,307,310,311,314,315,318,319,322,323) have mixed types. Specify dtype option on import or set low_memory=False.\n",
      "  df_demo = pd.read_csv(file_name)\n"
     ]
    },
    {
     "name": "stdout",
     "output_type": "stream",
     "text": [
      "Starting year: 2015\n"
     ]
    },
    {
     "name": "stderr",
     "output_type": "stream",
     "text": [
      "/var/folders/mx/cv_f44qs0m57p0lzjb0p91kh0000gn/T/ipykernel_53798/3321356089.py:9: DtypeWarning: Columns (2,3,4,6,7,10,11,14,15,18,19,22,23,26,27,30,31,34,35,38,39,42,43,46,47,50,51,54,55,58,59,62,63,70,71,74,75,78,79,82,83,86,87,88,90,91,94,95,98,99,100,102,103,106,107,110,111,112,114,115,118,119,122,123,126,127,130,131,134,135,138,139,142,143,146,147,150,151,154,155,158,159,162,163,166,167,170,171,174,175,178,179,182,183,186,187,190,191,194,195,198,199,202,203,206,207,210,211,214,215,218,219,222,223,226,227,230,231,232,234,235,238,239,242,243,246,247,250,251,254,255,258,259,260,262,263,266,267,270,271,274,275,278,279,282,283,286,287,290,291,294,295,298,299,302,303,306,307,310,311,314,315,318,319,322,323,326,327,328,330,331,334,335) have mixed types. Specify dtype option on import or set low_memory=False.\n",
      "  df_demo = pd.read_csv(file_name)\n"
     ]
    },
    {
     "name": "stdout",
     "output_type": "stream",
     "text": [
      "Starting year: 2016\n"
     ]
    },
    {
     "name": "stderr",
     "output_type": "stream",
     "text": [
      "/var/folders/mx/cv_f44qs0m57p0lzjb0p91kh0000gn/T/ipykernel_53798/3321356089.py:9: DtypeWarning: Columns (2,3,4,6,7,10,11,14,15,18,19,22,23,26,27,30,31,34,35,38,39,42,43,46,47,50,51,54,55,58,59,62,63,70,71,74,75,78,79,82,83,86,87,88,90,91,94,95,98,99,100,102,103,106,107,110,111,112,114,115,118,119,122,123,126,127,130,131,134,135,138,139,142,143,146,147,150,151,154,155,158,159,162,163,166,167,170,171,174,175,178,179,182,183,186,187,190,191,194,195,198,199,202,203,206,207,210,211,214,215,218,219,222,223,226,227,230,231,232,234,235,238,239,242,243,246,247,250,251,254,255,258,259,260,262,263,266,267,270,271,274,275,278,279,282,283,286,287,290,291,294,295,298,299,302,303,306,307,310,311,314,315,318,319,322,323,326,327,328,330,331,334,335) have mixed types. Specify dtype option on import or set low_memory=False.\n",
      "  df_demo = pd.read_csv(file_name)\n"
     ]
    },
    {
     "name": "stdout",
     "output_type": "stream",
     "text": [
      "Starting year: 2017\n"
     ]
    },
    {
     "name": "stderr",
     "output_type": "stream",
     "text": [
      "/var/folders/mx/cv_f44qs0m57p0lzjb0p91kh0000gn/T/ipykernel_53798/3321356089.py:9: DtypeWarning: Columns (2,3,4,5,6,7,10,11,12,13,14,15,16,17,18,19,20,21,22,23,24,25,26,27,28,29,30,31,32,33,34,35,38,39,40,41,42,43,44,45,46,47,48,49,50,51,52,53,54,55,58,59,60,61,62,63,66,67,68,69,70,71,72,73,74,75,76,77,78,79,80,81,82,83,84,85,86,87,88,89,90,91,92,93,94,95,96,97,98,99,100,101,102,103,104,105,106,107,108,109,110,111,112,113,114,115,116,117,118,119,120,121,122,123,124,125,126,127,128,129,130,131,132,133,134,135,136,137,138,139,140,141,142,143,144,145,146,147,148,149,150,151,152,153,154,155,156,157,158,159,160,161,162,163,164,165,166,167,168,169,170,171,172,173,174,175,176,177,178,179,180,228,236,244,304,318,352) have mixed types. Specify dtype option on import or set low_memory=False.\n",
      "  df_demo = pd.read_csv(file_name)\n"
     ]
    },
    {
     "name": "stdout",
     "output_type": "stream",
     "text": [
      "Starting year: 2018\n"
     ]
    },
    {
     "name": "stderr",
     "output_type": "stream",
     "text": [
      "/var/folders/mx/cv_f44qs0m57p0lzjb0p91kh0000gn/T/ipykernel_53798/3321356089.py:9: DtypeWarning: Columns (2,3,4,5,6,7,10,11,12,13,14,15,16,17,18,19,20,21,22,23,24,25,26,27,28,29,30,31,32,33,34,35,38,39,40,41,42,43,44,45,46,47,48,49,50,51,52,53,54,55,58,59,60,61,62,63,66,67,68,69,70,71,72,73,74,75,76,77,78,79,80,81,82,83,84,85,86,87,88,89,90,91,92,93,94,95,96,97,98,99,100,101,102,103,104,105,106,107,108,109,110,111,112,113,114,115,116,117,118,119,120,121,122,123,124,125,126,127,128,129,130,131,132,133,134,135,136,137,138,139,140,141,142,143,144,145,146,147,148,149,150,151,152,153,154,155,156,157,158,159,160,161,162,163,164,165,166,167,168,169,170,171,172,173,174,175,176,177,178,179,180,228,236,244,304,318,352) have mixed types. Specify dtype option on import or set low_memory=False.\n",
      "  df_demo = pd.read_csv(file_name)\n"
     ]
    },
    {
     "name": "stdout",
     "output_type": "stream",
     "text": [
      "Starting year: 2019\n"
     ]
    },
    {
     "name": "stderr",
     "output_type": "stream",
     "text": [
      "/var/folders/mx/cv_f44qs0m57p0lzjb0p91kh0000gn/T/ipykernel_53798/3321356089.py:9: DtypeWarning: Columns (2,3,4,5,6,7,10,11,12,13,14,15,16,17,18,19,20,21,22,23,24,25,26,27,28,29,30,31,32,33,34,35,38,39,40,41,42,43,44,45,46,47,48,49,50,51,52,53,54,55,58,59,60,61,62,63,66,67,68,69,70,71,72,73,74,75,76,77,78,79,80,81,82,83,84,85,86,87,88,89,90,91,92,93,94,95,96,97,98,99,100,101,102,103,104,105,106,107,108,109,110,111,112,113,114,115,116,117,118,119,120,121,122,123,124,125,126,127,128,129,130,131,132,133,134,135,136,137,138,139,140,141,142,143,144,145,146,147,148,149,150,151,152,153,154,155,156,157,158,159,160,161,162,163,164,165,166,167,168,169,170,171,172,173,174,175,176,177,178,179,180,228,236,244,304,318,352) have mixed types. Specify dtype option on import or set low_memory=False.\n",
      "  df_demo = pd.read_csv(file_name)\n"
     ]
    },
    {
     "name": "stdout",
     "output_type": "stream",
     "text": [
      "Starting year: 2020\n"
     ]
    },
    {
     "name": "stderr",
     "output_type": "stream",
     "text": [
      "/var/folders/mx/cv_f44qs0m57p0lzjb0p91kh0000gn/T/ipykernel_53798/3321356089.py:9: DtypeWarning: Columns (2,3,4,5,6,7,10,11,12,13,14,15,16,17,18,19,20,21,22,23,24,25,26,27,28,29,30,31,32,33,34,35,38,39,40,41,42,43,44,45,46,47,48,49,50,51,52,53,54,55,58,59,60,61,62,63,66,67,68,69,70,71,72,73,74,75,76,77,78,79,80,81,82,83,84,85,86,87,88,89,90,91,92,93,94,95,96,97,98,99,100,101,102,103,104,105,106,107,108,109,110,111,112,113,114,115,116,117,118,119,120,121,122,123,124,125,126,127,128,129,130,131,132,133,134,135,136,137,138,139,140,141,142,143,144,145,146,147,148,149,150,151,152,153,154,155,156,157,158,159,160,161,162,163,164,165,166,167,168,169,170,171,172,173,174,175,176,177,178,179,180,228,236,244,304,318,352) have mixed types. Specify dtype option on import or set low_memory=False.\n",
      "  df_demo = pd.read_csv(file_name)\n"
     ]
    },
    {
     "name": "stdout",
     "output_type": "stream",
     "text": [
      "Starting year: 2021\n"
     ]
    },
    {
     "name": "stderr",
     "output_type": "stream",
     "text": [
      "/var/folders/mx/cv_f44qs0m57p0lzjb0p91kh0000gn/T/ipykernel_53798/3321356089.py:9: DtypeWarning: Columns (2,3,4,5,6,7,10,11,12,13,14,15,16,17,18,19,20,21,22,23,24,25,26,27,28,29,30,31,32,33,34,35,38,39,40,41,42,43,44,45,46,47,48,49,50,51,52,53,54,55,58,59,60,61,62,63,66,67,68,69,70,71,72,73,74,75,76,77,78,79,80,81,82,83,84,85,86,87,88,89,90,91,92,93,94,95,96,97,98,99,100,101,102,103,104,105,106,107,108,109,110,111,112,113,114,115,116,117,118,119,120,121,122,123,124,125,126,127,128,129,130,131,132,133,134,135,136,137,138,139,140,141,142,143,144,145,146,147,148,149,150,151,152,153,154,155,156,157,158,159,160,161,162,163,164,165,166,167,168,169,170,171,172,173,174,175,176,177,178,179,180,228,236,244,304,318,352) have mixed types. Specify dtype option on import or set low_memory=False.\n",
      "  df_demo = pd.read_csv(file_name)\n"
     ]
    },
    {
     "name": "stdout",
     "output_type": "stream",
     "text": [
      "Starting year: 2022\n"
     ]
    },
    {
     "name": "stderr",
     "output_type": "stream",
     "text": [
      "/var/folders/mx/cv_f44qs0m57p0lzjb0p91kh0000gn/T/ipykernel_53798/3321356089.py:9: DtypeWarning: Columns (2,3,4,5,6,7,10,11,12,13,14,15,16,17,18,19,20,21,22,23,24,25,26,27,28,29,30,31,32,33,34,35,38,39,40,41,42,43,44,45,46,47,48,49,50,51,52,53,54,55,58,59,60,61,62,63,66,67,68,69,70,71,72,73,74,75,76,77,78,79,80,81,82,83,84,85,86,87,88,89,90,91,92,93,94,95,96,97,98,99,100,101,102,103,104,105,106,107,108,109,110,111,112,113,114,115,116,117,118,119,120,121,122,123,124,125,126,127,128,129,130,131,132,133,134,135,136,137,138,139,140,141,142,143,144,145,146,147,148,149,150,151,152,153,154,155,156,157,158,159,160,161,162,163,164,165,166,167,168,169,170,171,172,173,174,175,176,177,178,179,180,181,182,183,184,232,240,248,312,326,360) have mixed types. Specify dtype option on import or set low_memory=False.\n",
      "  df_demo = pd.read_csv(file_name)\n"
     ]
    },
    {
     "name": "stdout",
     "output_type": "stream",
     "text": [
      "Starting year: 2023\n"
     ]
    },
    {
     "name": "stderr",
     "output_type": "stream",
     "text": [
      "/var/folders/mx/cv_f44qs0m57p0lzjb0p91kh0000gn/T/ipykernel_53798/3321356089.py:9: DtypeWarning: Columns (2,3,4,5,6,7,10,11,12,13,14,15,16,17,18,19,20,21,22,23,24,25,26,27,28,29,30,31,32,33,34,35,38,39,40,41,42,43,44,45,46,47,48,49,50,51,52,53,54,55,58,59,60,61,62,63,66,67,68,69,70,71,72,73,74,75,76,77,78,79,80,81,82,83,84,85,86,87,88,89,90,91,92,93,94,95,96,97,98,99,100,101,102,103,104,105,106,107,108,109,110,111,112,113,114,115,116,117,118,119,120,121,122,123,124,125,126,127,128,129,130,131,132,133,134,135,136,137,138,139,140,141,142,143,144,145,146,147,148,149,150,151,152,153,154,155,156,157,158,159,160,161,162,163,164,165,166,167,168,169,170,171,172,173,174,175,176,177,178,179,180,181,182,183,184,185,186,187,188,189,190,238,246,254,324,338,372) have mixed types. Specify dtype option on import or set low_memory=False.\n",
      "  df_demo = pd.read_csv(file_name)\n"
     ]
    }
   ],
   "source": [
    "data = []  # Initialize an empty list to collect cleaned dataframes\n",
    "\n",
    "# Loop through each year from 2012 to 2023 (inclusive)\n",
    "for year in range(2012, 2024):\n",
    "    print(f\"Starting year: {year}\")  # Print progress message for each year\n",
    "    \n",
    "    # Construct the file path for the demographic data CSV of the given year\n",
    "    file_name = \"demodata/\" + str(year) + \"_demo_data.csv\"\n",
    "    \n",
    "    # Load the raw demographic data for the current year\n",
    "    df_demo = pd.read_csv(file_name)\n",
    "    \n",
    "    # Clean and process the raw data using the 'clean_demo_data' function\n",
    "    # Pass the dataframe, MSA subset dataframe, and current year as arguments\n",
    "    df_demo_cleaned = clean_demo_data(df_demo, df_subset, year)\n",
    "    \n",
    "    # Append the cleaned dataframe to the list\n",
    "    data.append(df_demo_cleaned)\n",
    "\n",
    "# Combine all yearly cleaned dataframes into one large dataframe, resetting the index\n",
    "demo_2011_2023 = pd.concat(data, ignore_index=True)\n",
    "\n",
    "# Save the combined cleaned demographic data for all years to a CSV file\n",
    "demo_2011_2023.to_csv(\"demo_data_2012-2023.csv\", index=False)\n"
   ]
  }
 ],
 "metadata": {
  "kernelspec": {
   "display_name": "base",
   "language": "python",
   "name": "python3"
  },
  "language_info": {
   "codemirror_mode": {
    "name": "ipython",
    "version": 3
   },
   "file_extension": ".py",
   "mimetype": "text/x-python",
   "name": "python",
   "nbconvert_exporter": "python",
   "pygments_lexer": "ipython3",
   "version": "3.12.3"
  }
 },
 "nbformat": 4,
 "nbformat_minor": 2
}
