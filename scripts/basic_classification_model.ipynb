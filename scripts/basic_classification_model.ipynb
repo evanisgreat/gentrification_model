{
 "cells": [
  {
   "cell_type": "markdown",
   "id": "8223cd08",
   "metadata": {},
   "source": [
    "# Basic Classification by Income\n",
    "\n",
    "This notebook would contain basic data cleaning and classification\n",
    "\n",
    "Source ACS"
   ]
  },
  {
   "cell_type": "code",
   "execution_count": 1,
   "id": "93ed0f88",
   "metadata": {},
   "outputs": [
    {
     "ename": "FileNotFoundError",
     "evalue": "[Errno 2] No such file or directory: '../data/msa-by-zip.csv'",
     "output_type": "error",
     "traceback": [
      "\u001b[0;31m---------------------------------------------------------------------------\u001b[0m",
      "\u001b[0;31mFileNotFoundError\u001b[0m                         Traceback (most recent call last)",
      "Cell \u001b[0;32mIn[1], line 3\u001b[0m\n\u001b[1;32m      1\u001b[0m \u001b[38;5;28;01mimport\u001b[39;00m\u001b[38;5;250m \u001b[39m\u001b[38;5;21;01mpandas\u001b[39;00m\u001b[38;5;250m \u001b[39m\u001b[38;5;28;01mas\u001b[39;00m\u001b[38;5;250m \u001b[39m\u001b[38;5;21;01mpd\u001b[39;00m\n\u001b[0;32m----> 3\u001b[0m df_msa \u001b[38;5;241m=\u001b[39m pd\u001b[38;5;241m.\u001b[39mread_csv(\u001b[38;5;124m'\u001b[39m\u001b[38;5;124m../data/msa-by-zip.csv\u001b[39m\u001b[38;5;124m'\u001b[39m)\n\u001b[1;32m      5\u001b[0m \u001b[38;5;66;03m# Filter out invalid ZIP codes (less than 3 digits, e.g., P.O. Boxes, special-purpose ZIPs)\u001b[39;00m\n\u001b[1;32m      6\u001b[0m df_msa \u001b[38;5;241m=\u001b[39m df_msa[df_msa[\u001b[38;5;124m'\u001b[39m\u001b[38;5;124mZIP CODE\u001b[39m\u001b[38;5;124m'\u001b[39m] \u001b[38;5;241m>\u001b[39m\u001b[38;5;241m=\u001b[39m \u001b[38;5;241m601\u001b[39m]\n",
      "File \u001b[0;32m/opt/anaconda3/lib/python3.13/site-packages/pandas/io/parsers/readers.py:1026\u001b[0m, in \u001b[0;36mread_csv\u001b[0;34m(filepath_or_buffer, sep, delimiter, header, names, index_col, usecols, dtype, engine, converters, true_values, false_values, skipinitialspace, skiprows, skipfooter, nrows, na_values, keep_default_na, na_filter, verbose, skip_blank_lines, parse_dates, infer_datetime_format, keep_date_col, date_parser, date_format, dayfirst, cache_dates, iterator, chunksize, compression, thousands, decimal, lineterminator, quotechar, quoting, doublequote, escapechar, comment, encoding, encoding_errors, dialect, on_bad_lines, delim_whitespace, low_memory, memory_map, float_precision, storage_options, dtype_backend)\u001b[0m\n\u001b[1;32m   1013\u001b[0m kwds_defaults \u001b[38;5;241m=\u001b[39m _refine_defaults_read(\n\u001b[1;32m   1014\u001b[0m     dialect,\n\u001b[1;32m   1015\u001b[0m     delimiter,\n\u001b[0;32m   (...)\u001b[0m\n\u001b[1;32m   1022\u001b[0m     dtype_backend\u001b[38;5;241m=\u001b[39mdtype_backend,\n\u001b[1;32m   1023\u001b[0m )\n\u001b[1;32m   1024\u001b[0m kwds\u001b[38;5;241m.\u001b[39mupdate(kwds_defaults)\n\u001b[0;32m-> 1026\u001b[0m \u001b[38;5;28;01mreturn\u001b[39;00m _read(filepath_or_buffer, kwds)\n",
      "File \u001b[0;32m/opt/anaconda3/lib/python3.13/site-packages/pandas/io/parsers/readers.py:620\u001b[0m, in \u001b[0;36m_read\u001b[0;34m(filepath_or_buffer, kwds)\u001b[0m\n\u001b[1;32m    617\u001b[0m _validate_names(kwds\u001b[38;5;241m.\u001b[39mget(\u001b[38;5;124m\"\u001b[39m\u001b[38;5;124mnames\u001b[39m\u001b[38;5;124m\"\u001b[39m, \u001b[38;5;28;01mNone\u001b[39;00m))\n\u001b[1;32m    619\u001b[0m \u001b[38;5;66;03m# Create the parser.\u001b[39;00m\n\u001b[0;32m--> 620\u001b[0m parser \u001b[38;5;241m=\u001b[39m TextFileReader(filepath_or_buffer, \u001b[38;5;241m*\u001b[39m\u001b[38;5;241m*\u001b[39mkwds)\n\u001b[1;32m    622\u001b[0m \u001b[38;5;28;01mif\u001b[39;00m chunksize \u001b[38;5;129;01mor\u001b[39;00m iterator:\n\u001b[1;32m    623\u001b[0m     \u001b[38;5;28;01mreturn\u001b[39;00m parser\n",
      "File \u001b[0;32m/opt/anaconda3/lib/python3.13/site-packages/pandas/io/parsers/readers.py:1620\u001b[0m, in \u001b[0;36mTextFileReader.__init__\u001b[0;34m(self, f, engine, **kwds)\u001b[0m\n\u001b[1;32m   1617\u001b[0m     \u001b[38;5;28mself\u001b[39m\u001b[38;5;241m.\u001b[39moptions[\u001b[38;5;124m\"\u001b[39m\u001b[38;5;124mhas_index_names\u001b[39m\u001b[38;5;124m\"\u001b[39m] \u001b[38;5;241m=\u001b[39m kwds[\u001b[38;5;124m\"\u001b[39m\u001b[38;5;124mhas_index_names\u001b[39m\u001b[38;5;124m\"\u001b[39m]\n\u001b[1;32m   1619\u001b[0m \u001b[38;5;28mself\u001b[39m\u001b[38;5;241m.\u001b[39mhandles: IOHandles \u001b[38;5;241m|\u001b[39m \u001b[38;5;28;01mNone\u001b[39;00m \u001b[38;5;241m=\u001b[39m \u001b[38;5;28;01mNone\u001b[39;00m\n\u001b[0;32m-> 1620\u001b[0m \u001b[38;5;28mself\u001b[39m\u001b[38;5;241m.\u001b[39m_engine \u001b[38;5;241m=\u001b[39m \u001b[38;5;28mself\u001b[39m\u001b[38;5;241m.\u001b[39m_make_engine(f, \u001b[38;5;28mself\u001b[39m\u001b[38;5;241m.\u001b[39mengine)\n",
      "File \u001b[0;32m/opt/anaconda3/lib/python3.13/site-packages/pandas/io/parsers/readers.py:1880\u001b[0m, in \u001b[0;36mTextFileReader._make_engine\u001b[0;34m(self, f, engine)\u001b[0m\n\u001b[1;32m   1878\u001b[0m     \u001b[38;5;28;01mif\u001b[39;00m \u001b[38;5;124m\"\u001b[39m\u001b[38;5;124mb\u001b[39m\u001b[38;5;124m\"\u001b[39m \u001b[38;5;129;01mnot\u001b[39;00m \u001b[38;5;129;01min\u001b[39;00m mode:\n\u001b[1;32m   1879\u001b[0m         mode \u001b[38;5;241m+\u001b[39m\u001b[38;5;241m=\u001b[39m \u001b[38;5;124m\"\u001b[39m\u001b[38;5;124mb\u001b[39m\u001b[38;5;124m\"\u001b[39m\n\u001b[0;32m-> 1880\u001b[0m \u001b[38;5;28mself\u001b[39m\u001b[38;5;241m.\u001b[39mhandles \u001b[38;5;241m=\u001b[39m get_handle(\n\u001b[1;32m   1881\u001b[0m     f,\n\u001b[1;32m   1882\u001b[0m     mode,\n\u001b[1;32m   1883\u001b[0m     encoding\u001b[38;5;241m=\u001b[39m\u001b[38;5;28mself\u001b[39m\u001b[38;5;241m.\u001b[39moptions\u001b[38;5;241m.\u001b[39mget(\u001b[38;5;124m\"\u001b[39m\u001b[38;5;124mencoding\u001b[39m\u001b[38;5;124m\"\u001b[39m, \u001b[38;5;28;01mNone\u001b[39;00m),\n\u001b[1;32m   1884\u001b[0m     compression\u001b[38;5;241m=\u001b[39m\u001b[38;5;28mself\u001b[39m\u001b[38;5;241m.\u001b[39moptions\u001b[38;5;241m.\u001b[39mget(\u001b[38;5;124m\"\u001b[39m\u001b[38;5;124mcompression\u001b[39m\u001b[38;5;124m\"\u001b[39m, \u001b[38;5;28;01mNone\u001b[39;00m),\n\u001b[1;32m   1885\u001b[0m     memory_map\u001b[38;5;241m=\u001b[39m\u001b[38;5;28mself\u001b[39m\u001b[38;5;241m.\u001b[39moptions\u001b[38;5;241m.\u001b[39mget(\u001b[38;5;124m\"\u001b[39m\u001b[38;5;124mmemory_map\u001b[39m\u001b[38;5;124m\"\u001b[39m, \u001b[38;5;28;01mFalse\u001b[39;00m),\n\u001b[1;32m   1886\u001b[0m     is_text\u001b[38;5;241m=\u001b[39mis_text,\n\u001b[1;32m   1887\u001b[0m     errors\u001b[38;5;241m=\u001b[39m\u001b[38;5;28mself\u001b[39m\u001b[38;5;241m.\u001b[39moptions\u001b[38;5;241m.\u001b[39mget(\u001b[38;5;124m\"\u001b[39m\u001b[38;5;124mencoding_errors\u001b[39m\u001b[38;5;124m\"\u001b[39m, \u001b[38;5;124m\"\u001b[39m\u001b[38;5;124mstrict\u001b[39m\u001b[38;5;124m\"\u001b[39m),\n\u001b[1;32m   1888\u001b[0m     storage_options\u001b[38;5;241m=\u001b[39m\u001b[38;5;28mself\u001b[39m\u001b[38;5;241m.\u001b[39moptions\u001b[38;5;241m.\u001b[39mget(\u001b[38;5;124m\"\u001b[39m\u001b[38;5;124mstorage_options\u001b[39m\u001b[38;5;124m\"\u001b[39m, \u001b[38;5;28;01mNone\u001b[39;00m),\n\u001b[1;32m   1889\u001b[0m )\n\u001b[1;32m   1890\u001b[0m \u001b[38;5;28;01massert\u001b[39;00m \u001b[38;5;28mself\u001b[39m\u001b[38;5;241m.\u001b[39mhandles \u001b[38;5;129;01mis\u001b[39;00m \u001b[38;5;129;01mnot\u001b[39;00m \u001b[38;5;28;01mNone\u001b[39;00m\n\u001b[1;32m   1891\u001b[0m f \u001b[38;5;241m=\u001b[39m \u001b[38;5;28mself\u001b[39m\u001b[38;5;241m.\u001b[39mhandles\u001b[38;5;241m.\u001b[39mhandle\n",
      "File \u001b[0;32m/opt/anaconda3/lib/python3.13/site-packages/pandas/io/common.py:873\u001b[0m, in \u001b[0;36mget_handle\u001b[0;34m(path_or_buf, mode, encoding, compression, memory_map, is_text, errors, storage_options)\u001b[0m\n\u001b[1;32m    868\u001b[0m \u001b[38;5;28;01melif\u001b[39;00m \u001b[38;5;28misinstance\u001b[39m(handle, \u001b[38;5;28mstr\u001b[39m):\n\u001b[1;32m    869\u001b[0m     \u001b[38;5;66;03m# Check whether the filename is to be opened in binary mode.\u001b[39;00m\n\u001b[1;32m    870\u001b[0m     \u001b[38;5;66;03m# Binary mode does not support 'encoding' and 'newline'.\u001b[39;00m\n\u001b[1;32m    871\u001b[0m     \u001b[38;5;28;01mif\u001b[39;00m ioargs\u001b[38;5;241m.\u001b[39mencoding \u001b[38;5;129;01mand\u001b[39;00m \u001b[38;5;124m\"\u001b[39m\u001b[38;5;124mb\u001b[39m\u001b[38;5;124m\"\u001b[39m \u001b[38;5;129;01mnot\u001b[39;00m \u001b[38;5;129;01min\u001b[39;00m ioargs\u001b[38;5;241m.\u001b[39mmode:\n\u001b[1;32m    872\u001b[0m         \u001b[38;5;66;03m# Encoding\u001b[39;00m\n\u001b[0;32m--> 873\u001b[0m         handle \u001b[38;5;241m=\u001b[39m \u001b[38;5;28mopen\u001b[39m(\n\u001b[1;32m    874\u001b[0m             handle,\n\u001b[1;32m    875\u001b[0m             ioargs\u001b[38;5;241m.\u001b[39mmode,\n\u001b[1;32m    876\u001b[0m             encoding\u001b[38;5;241m=\u001b[39mioargs\u001b[38;5;241m.\u001b[39mencoding,\n\u001b[1;32m    877\u001b[0m             errors\u001b[38;5;241m=\u001b[39merrors,\n\u001b[1;32m    878\u001b[0m             newline\u001b[38;5;241m=\u001b[39m\u001b[38;5;124m\"\u001b[39m\u001b[38;5;124m\"\u001b[39m,\n\u001b[1;32m    879\u001b[0m         )\n\u001b[1;32m    880\u001b[0m     \u001b[38;5;28;01melse\u001b[39;00m:\n\u001b[1;32m    881\u001b[0m         \u001b[38;5;66;03m# Binary mode\u001b[39;00m\n\u001b[1;32m    882\u001b[0m         handle \u001b[38;5;241m=\u001b[39m \u001b[38;5;28mopen\u001b[39m(handle, ioargs\u001b[38;5;241m.\u001b[39mmode)\n",
      "\u001b[0;31mFileNotFoundError\u001b[0m: [Errno 2] No such file or directory: '../data/msa-by-zip.csv'"
     ]
    }
   ],
   "source": [
    "import pandas as pd\n",
    "\n",
    "df_msa = pd.read_csv('../data/msa-by-zip.csv')\n",
    "\n",
    "# Filter out invalid ZIP codes (less than 3 digits, e.g., P.O. Boxes, special-purpose ZIPs)\n",
    "df_msa = df_msa[df_msa['ZIP CODE'] >= 601]\n",
    "\n",
    "# Convert ZIP codes to 5-digit strings with leading zeros\n",
    "df_msa['ZIP CODE'] = df_msa['ZIP CODE'].astype(str).str.zfill(5)\n",
    "\n",
    "# Standardize column names to lowercase and replace spaces with underscores\n",
    "df_msa.columns = [col.lower().replace(\" \", \"_\") for col in df_msa.columns]\n",
    "\n",
    "# Create a subset with only ZIP code and MSA name for merging later\n",
    "df_subset = df_msa[['zip_code', 'msa_name']]\n",
    "\n",
    "# Define data cleaning function\n",
    "def clean_data(df, df_subset):\n",
    "    \"\"\"\n",
    "    Cleans and processes a DataFrame containing ZIP Code Tabulation Area (ZCTA5) and income data, \n",
    "    merges it with a subset DataFrame, and returns the cleaned result along with the name of the median income column.\n",
    "\n",
    "    Parameters:\n",
    "    -----------\n",
    "    df : pd.DataFrame\n",
    "        Raw DataFrame containing income and geographic data. Assumes the first row is a header row, \n",
    "        and the first and last columns are to be dropped.\n",
    "    \n",
    "    df_subset : pd.DataFrame\n",
    "        DataFrame containing a 'zip_code' column and an 'msa_name' column to be merged with `df`.\n",
    "    \n",
    "    Returns:\n",
    "    --------\n",
    "    tuple:\n",
    "        - pd.DataFrame: Cleaned and merged DataFrame with relevant ZIP code and MSA (Metropolitan Statistical Area) data.\n",
    "        - str: The column name used for median household income, depending on which format was present in the original data.\n",
    "    \"\"\"\n",
    "    # Use the first row as the header, then reset index and drop the original header row\n",
    "    df.columns = df.iloc[0]\n",
    "    df = df[1:].reset_index(drop=True)\n",
    "\n",
    "    # Drop the first and last columns (likely metadata or margin of error)\n",
    "    df = df.drop([df.columns[0], df.columns[-1]], axis=1)\n",
    "\n",
    "    # Extract 5-digit ZIP codes from the 'Geographic Area Name' column\n",
    "    df[\"zip_code\"] = df[\"Geographic Area Name\"].str.extract(r'ZCTA5 (\\d{5})')\n",
    "\n",
    "    # Drop the 'Geographic Area Name' column after extracting the ZIP code\n",
    "    df = df.drop(columns='Geographic Area Name')\n",
    "\n",
    "    # Standardize column names: lowercase and underscores instead of spaces\n",
    "    df.columns = [col.lower().replace(\" \", \"_\") for col in df.columns]\n",
    "\n",
    "    # Handle one possible format for the median income column\n",
    "    if 'estimate!!households!!median_income_(dollars)' in df.columns:\n",
    "        # Convert income to numeric, drop rows with non-numeric values\n",
    "        df['col_numeric'] = pd.to_numeric(df['estimate!!households!!median_income_(dollars)'], errors='coerce')\n",
    "        df = df.dropna(subset=['col_numeric']).drop(columns='col_numeric')\n",
    "        df['estimate!!households!!median_income_(dollars)'] = df['estimate!!households!!median_income_(dollars)'].astype(float)\n",
    "        median_key = 'estimate!!households!!median_income_(dollars)'\n",
    "\n",
    "    # Handle alternate format of median income column\n",
    "    elif 'households!!estimate!!median_income_(dollars)' in df.columns:\n",
    "        df['col_numeric'] = pd.to_numeric(df['households!!estimate!!median_income_(dollars)'], errors='coerce')\n",
    "        df = df.dropna(subset=['col_numeric']).drop(columns='col_numeric')\n",
    "        df['households!!estimate!!median_income_(dollars)'] = df['households!!estimate!!median_income_(dollars)'].astype(float)\n",
    "        median_key = 'households!!estimate!!median_income_(dollars)'\n",
    "\n",
    "    # Merge with MSA name data on ZIP code\n",
    "    df_merged = pd.merge(df, df_subset, on='zip_code', how='left')\n",
    "\n",
    "    # Reorder columns: zip_code and msa_name first\n",
    "    col = ['zip_code', 'msa_name']\n",
    "    df_merged = df_merged[col + [c for c in df_merged.columns if c not in col]]\n",
    "\n",
    "    # Remove rows that are marked as NONMETROPOLITAN or have no MSA name\n",
    "    df_merged = df_merged[~df_merged['msa_name'].str.contains('NONMETROPOLITAN', na=False)]\n",
    "    df_merged = df_merged.dropna(subset=['msa_name'])\n",
    "\n",
    "    return df_merged, median_key\n",
    "\n",
    "df_base = pd.read_csv('../data/2011_acs_income_data.csv')\n",
    "\n",
    "# Clean and process the data using the function\n",
    "df_base, med_key = clean_data(df_base, df_subset)\n",
    "\n",
    "# Store the income column name for this specific year\n",
    "key_2011 = med_key\n",
    "\n",
    "# Preview the cleaned DataFrame\n",
    "df_base.head()\n",
    "\n",
    "# Optional: save cleaned data to CSV\n",
    "# df.to_csv('2023_acs_income_data_cleaned.csv', index=False)"
   ]
  },
  {
   "cell_type": "code",
   "execution_count": null,
   "id": "4caf5af4",
   "metadata": {},
   "outputs": [],
   "source": [
    "cols = ['households!!estimate!!less_than_$10,000', 'households!!estimate!!$10,000_to_$14,999', 'households!!estimate!!$15,000_to_$24,999']\n",
    "for c in cols:\n",
    "    df_base[c] = pd.to_numeric(df_base[c], errors='coerce')\n",
    "    df_base = df_base.dropna(subset=[c])\n",
    "\n",
    "df_selected_columns = df_base[cols]\n",
    "\n",
    "row_sums = df_selected_columns.sum(axis=1)\n",
    "\n",
    "df_base['per_low_income'] = row_sums\n",
    "\n",
    "unique_msa = df_base['msa_name'].unique()\n",
    "\n",
    "output = []\n",
    "\n",
    "for msa in unique_msa:\n",
    "    df_specific_msa = df_base[df_base['msa_name'] == msa].set_index('zip_code')\n",
    "\n",
    "    median_low_income = df_base['per_low_income'].median()\n",
    "\n",
    "    for zip in list(df_specific_msa.index):\n",
    "        per_low_income = df_specific_msa.loc[zip, 'per_low_income']\n",
    "\n",
    "        output.append({'zip_code': zip, 'msa_name': msa, 'per_low_income': per_low_income, 'at_risk_income': per_low_income > median_low_income})\n",
    "\n",
    "\n",
    "df_output = pd.DataFrame.from_records(output)\n",
    "df_output.to_csv('../data/low_income_classification_risk.csv', index=False)\n"
   ]
  },
  {
   "cell_type": "code",
   "execution_count": null,
   "id": "2595c46f",
   "metadata": {},
   "outputs": [
    {
     "name": "stdout",
     "output_type": "stream",
     "text": [
      "Processing year 2012...\n"
     ]
    },
    {
     "name": "stderr",
     "output_type": "stream",
     "text": [
      "/var/folders/l5/c83q5w7j3wvcv1kvpg3d5qc80000gn/T/ipykernel_80145/2805901765.py:18: DtypeWarning: Columns (2,3,4,5,6,7,8,9) have mixed types. Specify dtype option on import or set low_memory=False.\n",
      "  df_current = pd.read_csv(f'../data/{year}_acs_income_data.csv')\n"
     ]
    },
    {
     "name": "stdout",
     "output_type": "stream",
     "text": [
      "Processing year 2013...\n"
     ]
    },
    {
     "name": "stderr",
     "output_type": "stream",
     "text": [
      "/var/folders/l5/c83q5w7j3wvcv1kvpg3d5qc80000gn/T/ipykernel_80145/2805901765.py:18: DtypeWarning: Columns (2,3,4,5,6,7,8,9) have mixed types. Specify dtype option on import or set low_memory=False.\n",
      "  df_current = pd.read_csv(f'../data/{year}_acs_income_data.csv')\n"
     ]
    },
    {
     "name": "stdout",
     "output_type": "stream",
     "text": [
      "Processing year 2014...\n"
     ]
    },
    {
     "name": "stderr",
     "output_type": "stream",
     "text": [
      "/var/folders/l5/c83q5w7j3wvcv1kvpg3d5qc80000gn/T/ipykernel_80145/2805901765.py:18: DtypeWarning: Columns (2,3,4,5,6,7,8,9) have mixed types. Specify dtype option on import or set low_memory=False.\n",
      "  df_current = pd.read_csv(f'../data/{year}_acs_income_data.csv')\n"
     ]
    },
    {
     "name": "stdout",
     "output_type": "stream",
     "text": [
      "Processing year 2015...\n"
     ]
    },
    {
     "name": "stderr",
     "output_type": "stream",
     "text": [
      "/var/folders/l5/c83q5w7j3wvcv1kvpg3d5qc80000gn/T/ipykernel_80145/2805901765.py:18: DtypeWarning: Columns (2,3,4,5,6,7,8,9) have mixed types. Specify dtype option on import or set low_memory=False.\n",
      "  df_current = pd.read_csv(f'../data/{year}_acs_income_data.csv')\n"
     ]
    },
    {
     "name": "stdout",
     "output_type": "stream",
     "text": [
      "Processing year 2016...\n"
     ]
    },
    {
     "name": "stderr",
     "output_type": "stream",
     "text": [
      "/var/folders/l5/c83q5w7j3wvcv1kvpg3d5qc80000gn/T/ipykernel_80145/2805901765.py:18: DtypeWarning: Columns (2,3,4,5,6,7,8,9) have mixed types. Specify dtype option on import or set low_memory=False.\n",
      "  df_current = pd.read_csv(f'../data/{year}_acs_income_data.csv')\n"
     ]
    },
    {
     "name": "stdout",
     "output_type": "stream",
     "text": [
      "Processing year 2017...\n"
     ]
    },
    {
     "name": "stderr",
     "output_type": "stream",
     "text": [
      "/var/folders/l5/c83q5w7j3wvcv1kvpg3d5qc80000gn/T/ipykernel_80145/2805901765.py:18: DtypeWarning: Columns (2,3,34,35,66,67,98,99) have mixed types. Specify dtype option on import or set low_memory=False.\n",
      "  df_current = pd.read_csv(f'../data/{year}_acs_income_data.csv')\n"
     ]
    },
    {
     "name": "stdout",
     "output_type": "stream",
     "text": [
      "Processing year 2018...\n"
     ]
    },
    {
     "name": "stderr",
     "output_type": "stream",
     "text": [
      "/var/folders/l5/c83q5w7j3wvcv1kvpg3d5qc80000gn/T/ipykernel_80145/2805901765.py:18: DtypeWarning: Columns (2,3,34,35,36,37,38,39) have mixed types. Specify dtype option on import or set low_memory=False.\n",
      "  df_current = pd.read_csv(f'../data/{year}_acs_income_data.csv')\n"
     ]
    },
    {
     "name": "stdout",
     "output_type": "stream",
     "text": [
      "Processing year 2019...\n"
     ]
    },
    {
     "name": "stderr",
     "output_type": "stream",
     "text": [
      "/var/folders/l5/c83q5w7j3wvcv1kvpg3d5qc80000gn/T/ipykernel_80145/2805901765.py:18: DtypeWarning: Columns (2,3,34,35,66,67,98,99) have mixed types. Specify dtype option on import or set low_memory=False.\n",
      "  df_current = pd.read_csv(f'../data/{year}_acs_income_data.csv')\n"
     ]
    },
    {
     "name": "stdout",
     "output_type": "stream",
     "text": [
      "Processing year 2020...\n"
     ]
    },
    {
     "name": "stderr",
     "output_type": "stream",
     "text": [
      "/var/folders/l5/c83q5w7j3wvcv1kvpg3d5qc80000gn/T/ipykernel_80145/2805901765.py:18: DtypeWarning: Columns (2,3,34,35,66,67,98,99) have mixed types. Specify dtype option on import or set low_memory=False.\n",
      "  df_current = pd.read_csv(f'../data/{year}_acs_income_data.csv')\n"
     ]
    },
    {
     "name": "stdout",
     "output_type": "stream",
     "text": [
      "Processing year 2021...\n"
     ]
    },
    {
     "name": "stderr",
     "output_type": "stream",
     "text": [
      "/var/folders/l5/c83q5w7j3wvcv1kvpg3d5qc80000gn/T/ipykernel_80145/2805901765.py:18: DtypeWarning: Columns (2,3,34,35,66,67,98,99) have mixed types. Specify dtype option on import or set low_memory=False.\n",
      "  df_current = pd.read_csv(f'../data/{year}_acs_income_data.csv')\n"
     ]
    },
    {
     "name": "stdout",
     "output_type": "stream",
     "text": [
      "Processing year 2022...\n"
     ]
    },
    {
     "name": "stderr",
     "output_type": "stream",
     "text": [
      "/var/folders/l5/c83q5w7j3wvcv1kvpg3d5qc80000gn/T/ipykernel_80145/2805901765.py:18: DtypeWarning: Columns (2,3,34,35,66,67,98,99) have mixed types. Specify dtype option on import or set low_memory=False.\n",
      "  df_current = pd.read_csv(f'../data/{year}_acs_income_data.csv')\n"
     ]
    },
    {
     "name": "stdout",
     "output_type": "stream",
     "text": [
      "Processing year 2023...\n"
     ]
    },
    {
     "name": "stderr",
     "output_type": "stream",
     "text": [
      "/var/folders/l5/c83q5w7j3wvcv1kvpg3d5qc80000gn/T/ipykernel_80145/2805901765.py:18: DtypeWarning: Columns (2,3,34,35,66,67,98,99) have mixed types. Specify dtype option on import or set low_memory=False.\n",
      "  df_current = pd.read_csv(f'../data/{year}_acs_income_data.csv')\n"
     ]
    }
   ],
   "source": [
    "import pandas as pd\n",
    "\n",
    "def per_change(income1, income2):\n",
    "    \"\"\"Calculates percent change from income1 to income2 (e.g., 0.1 = 10% increase).\"\"\"\n",
    "    return (income2 / income1) - 1 if income1 != 0 else 0\n",
    "\n",
    "# Prepare base 2011 data\n",
    "df_base = df_base.set_index('zip_code')\n",
    "med_income_2011 = df_base.groupby('msa_name')[key_2011].median().to_dict()\n",
    "\n",
    "# Placeholder for results\n",
    "records = []\n",
    "\n",
    "# Loop from 2012 to 2023\n",
    "for year in range(2012, 2024):\n",
    "    print(f\"Processing year {year}...\")\n",
    "    \n",
    "    df_current = pd.read_csv(f'../data/{year}_acs_income_data.csv')\n",
    "    df_current, df_med_key = clean_data(df_current, df_subset)\n",
    "    df_current = df_current.set_index('zip_code')\n",
    "    \n",
    "    # Get unique MSAs\n",
    "    msas = df_current['msa_name'].unique()\n",
    "\n",
    "    for msa in msas:\n",
    "        df_current_msa = df_current[df_current['msa_name'] == msa]\n",
    "        median_income_current = df_current_msa[df_med_key].median()\n",
    "        median_income_base = med_income_2011.get(msa, None)\n",
    "\n",
    "        # Skip MSA if 2011 data not available\n",
    "        if median_income_base is None:\n",
    "            continue\n",
    "\n",
    "        region_change = per_change(median_income_base, median_income_current)\n",
    "\n",
    "        # Join current and base data on ZIP for this MSA\n",
    "        df_base_msa = df_base[df_base['msa_name'] == msa]\n",
    "        shared_zips = df_current_msa.index.intersection(df_base_msa.index)\n",
    "\n",
    "        for zip_code in shared_zips:\n",
    "            income_current = df_current_msa.loc[zip_code, df_med_key]\n",
    "            income_base = df_base_msa.loc[zip_code, key_2011]\n",
    "\n",
    "            zip_change = per_change(income_base, income_current)\n",
    "            gentrified = zip_change > region_change\n",
    "\n",
    "            records.append({\n",
    "                'zip_code': zip_code,\n",
    "                'msa_name': msa,\n",
    "                'income': income_current,\n",
    "                'gentrified': gentrified,\n",
    "                'year': year\n",
    "            })\n",
    "\n",
    "# Final DataFrame and export\n",
    "df_track = pd.DataFrame.from_records(records)\n",
    "df_track.to_csv('../data/low_income_classification_by_year.csv', index=False)\n"
   ]
  }
 ],
 "metadata": {
  "kernelspec": {
   "display_name": "base",
   "language": "python",
   "name": "python3"
  },
  "language_info": {
   "codemirror_mode": {
    "name": "ipython",
    "version": 3
   },
   "file_extension": ".py",
   "mimetype": "text/x-python",
   "name": "python",
   "nbconvert_exporter": "python",
   "pygments_lexer": "ipython3",
   "version": "3.13.5"
  }
 },
 "nbformat": 4,
 "nbformat_minor": 5
}
