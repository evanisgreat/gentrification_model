{
 "cells": [
  {
   "cell_type": "code",
   "execution_count": 8,
   "id": "5a37106b",
   "metadata": {},
   "outputs": [],
   "source": [
    "import pandas as pd\n",
    "\n",
    "df = pd.read_csv('../data/forecasted_data_2035.csv')\n",
    "\n",
    "df = df[df['year'] == 2030]\n",
    "\n",
    "df = df.drop(columns='year')\n",
    "\n",
    "df = df[['zip_code',\t'forecasted_income', 'forecasted_median_contract_rent', 'forecasted_per_college_educated']]\n",
    "\n",
    "df.columns = ['zip_code', 'income_2030', 'rent_2030', 'college_2030']\n",
    "\n",
    "df['zip_code'] = df['zip_code'].astype(str).str.zfill(5)\n",
    "\n",
    "df_msa = pd.read_csv('../data/msa-by-zip.csv')\n",
    "\n",
    "# Filter out invalid ZIP codes (less than 3 digits, e.g., P.O. Boxes, special-purpose ZIPs)\n",
    "df_msa = df_msa[df_msa['ZIP CODE'] >= 601]\n",
    "\n",
    "# Convert ZIP codes to 5-digit strings with leading zeros\n",
    "df_msa['ZIP CODE'] = df_msa['ZIP CODE'].astype(str).str.zfill(5)\n",
    "\n",
    "# Standardize column names to lowercase and replace spaces with underscores\n",
    "df_msa.columns = [col.lower().replace(\" \", \"_\") for col in df_msa.columns]\n",
    "\n",
    "# Create a subset with only ZIP code and MSA name for merging later\n",
    "df_subset = df_msa[['zip_code', 'msa_name']]\n",
    "\n",
    "df_merged = pd.merge(left=df, right=df_subset, on='zip_code', how='left')\n",
    "\n",
    "df_merged = df_merged.drop_duplicates(subset=['zip_code'])\n",
    "\n",
    "df_merged.to_csv('../data/forecasted_data_2030.csv', index=False)"
   ]
  }
 ],
 "metadata": {
  "kernelspec": {
   "display_name": "base",
   "language": "python",
   "name": "python3"
  },
  "language_info": {
   "codemirror_mode": {
    "name": "ipython",
    "version": 3
   },
   "file_extension": ".py",
   "mimetype": "text/x-python",
   "name": "python",
   "nbconvert_exporter": "python",
   "pygments_lexer": "ipython3",
   "version": "3.13.5"
  }
 },
 "nbformat": 4,
 "nbformat_minor": 5
}
