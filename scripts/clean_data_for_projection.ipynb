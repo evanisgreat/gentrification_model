{
 "cells": [
  {
   "cell_type": "code",
   "execution_count": null,
   "id": "5a37106b",
   "metadata": {},
   "outputs": [],
   "source": [
    "import pandas as pd\n",
    "\n",
    "# Load the forecasted demographic/economic data\n",
    "df = pd.read_csv('../data/forecasted_data_2035.csv')\n",
    "\n",
    "# Filter the dataset to include only records for the year 2035\n",
    "df = df[df['year'] == 2035]\n",
    "\n",
    "# Drop the 'year' column since it's now redundant\n",
    "df = df.drop(columns='year')\n",
    "\n",
    "# Keep only relevant columns: ZIP code, income, rent, and education forecast\n",
    "df = df[['zip_code', 'forecasted_income', 'forecasted_median_contract_rent', 'forecasted_per_college_educated']]\n",
    "\n",
    "# Rename columns for clarity and consistency with previous datasets\n",
    "df.columns = ['zip_code', 'income_2035', 'rent_2035', 'college_2035']\n",
    "\n",
    "# Ensure all ZIP codes are 5-digit strings with leading zeros where necessary\n",
    "df['zip_code'] = df['zip_code'].astype(str).str.zfill(5)\n",
    "\n",
    "# Load the ZIP-to-MSA mapping file\n",
    "df_msa = pd.read_csv('../data/msa-by-zip.csv')\n",
    "\n",
    "# Remove entries with invalid ZIP codes (e.g., special-use ZIPs below 601)\n",
    "df_msa = df_msa[df_msa['ZIP CODE'] >= 601]\n",
    "\n",
    "# Convert ZIP codes in the MSA dataset to 5-digit strings to match the format in `df`\n",
    "df_msa['ZIP CODE'] = df_msa['ZIP CODE'].astype(str).str.zfill(5)\n",
    "\n",
    "# Standardize column names: lowercase and replace spaces with underscores\n",
    "df_msa.columns = [col.lower().replace(\" \", \"_\") for col in df_msa.columns]\n",
    "\n",
    "# Extract only ZIP code and MSA name for merging\n",
    "df_subset = df_msa[['zip_code', 'msa_name']]\n",
    "\n",
    "# Merge forecasted data with MSA info based on ZIP code\n",
    "df_merged = pd.merge(left=df, right=df_subset, on='zip_code', how='left')\n",
    "\n",
    "# Remove duplicate ZIP codes, keeping the first occurrence\n",
    "df_merged = df_merged.drop_duplicates(subset=['zip_code'])\n",
    "\n",
    "# Export the cleaned and merged dataset to a new CSV file\n",
    "df_merged.to_csv('../data/forecasted_data_2035_true.csv', index=False)\n"
   ]
  }
 ],
 "metadata": {
  "kernelspec": {
   "display_name": "base",
   "language": "python",
   "name": "python3"
  },
  "language_info": {
   "codemirror_mode": {
    "name": "ipython",
    "version": 3
   },
   "file_extension": ".py",
   "mimetype": "text/x-python",
   "name": "python",
   "nbconvert_exporter": "python",
   "pygments_lexer": "ipython3",
   "version": "3.13.5"
  }
 },
 "nbformat": 4,
 "nbformat_minor": 5
}
